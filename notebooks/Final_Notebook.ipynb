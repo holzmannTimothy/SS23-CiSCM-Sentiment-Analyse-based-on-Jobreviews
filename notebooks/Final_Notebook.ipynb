{
 "cells": [
  {
   "cell_type": "markdown",
   "id": "f24f5b99",
   "metadata": {},
   "source": [
    "# Challenges in Supply-Chain-Management: Sentiment Analysis of Job Reviews\n",
    "---\n",
    "## 1. Introduction\n",
    "The modern business landscape is more competitive than ever, with organizations constantly seeking an edge to differentiate themselves and better serve their clients. One area of increasing importance in this pursuit is understanding and improving employee satisfaction. Employee reviews are a gold mine of data, rich with insights about the working environment, company culture, benefits, growth opportunities, and more. For any business, leveraging this data can provide valuable feedback, helping to enhance the work environment and drive success.\n",
    "\n",
    "The aim of this project is to harness the power of AI and Natural Language Processing (NLP) techniques to analyze job reviews for BASF, one of the world's largest chemical producers. More specifically, we focus on an aspect of NLP known as Sentiment Analysis, aiming to understand the underlying sentiments of employees towards the company.\n",
    "\n",
    "We are particularly motivated to apply the cutting-edge Generative AI methods in this analysis, as these tools have proven to be efficient and effective in identifying patterns and trends in complex datasets, such as textual reviews. It also aligns the principles of Supply Chain Management, or even more specific, the human resource is part of it.\n",
    "\n",
    "Our analysis is based on a dataset containing job reviews written in German. The dataset includes several fields for each review, including the title of the review, the date and job title of the reviewer, an overall rating, and free-text fields for the pros and cons of the job.\n",
    "\n",
    "This project aims to provide actionable insights that can help BASF to improve its working conditions, employee satisfaction, and ultimately, business success. It is our hope that the methodologies developed here can also be applied to other organizations, empowering them to better understand and act on employee feedback."
   ]
  },
  {
   "cell_type": "markdown",
   "id": "fbf77ec2",
   "metadata": {},
   "source": [
    "## 2. Data Understanding and Preprocessing\n",
    "\n",
    "In any data analysis task, the initial step is to understand and preprocess the data, and our project is no different. The data we are working with is an extensive collection of job reviews in German, from employees at BASF. The 'Data Understanding and Preprocessing' stage of our project is therefore crucial for shaping our raw data into a form that is suitable for analysis.\n",
    "\n",
    "Data understanding involves getting to know our dataset, including its size, the type of data we have, the presence of any missing or inconsistent data, and the distribution of data across various categories. This is crucial in identifying any potential issues that might affect the quality of our results or require special handling.\n",
    "\n",
    "Once we have a thorough understanding of our data, we move on to data preprocessing, the process of cleaning and transforming the raw data to prepare it for analysis. In the case of text data, preprocessing often involves removing unnecessary or redundant information, standardizing the format of the data, and transforming the text into a form that can be easily processed by our analysis tools. For our project, this includes tasks like TF-IDF vectorization and transforming the text into unigrams and bigrams.\n",
    "\n",
    "Our goal in this stage is to ensure that our data is in the best possible form for the subsequent sentiment analysis. By investing time and effort in understanding and preprocessing our data, we can ensure the quality and reliability of our results, and maximize the insights we can derive from our analysis."
   ]
  },
  {
   "cell_type": "markdown",
   "id": "b83be678",
   "metadata": {},
   "source": [
    "### Import necessary libraries"
   ]
  },
  {
   "cell_type": "code",
   "execution_count": 1,
   "id": "b0b77557",
   "metadata": {},
   "outputs": [],
   "source": [
    "import pandas as pd\n",
    "import numpy as np\n",
    "import matplotlib.pyplot as plt\n",
    "import seaborn as sns\n",
    "import numpy as np\n",
    "import os\n",
    "import matplotlib.dates as mdates\n",
    "\n",
    "import nltk\n",
    "from nltk.corpus import stopwords\n",
    "from nltk.tokenize import word_tokenize, sent_tokenize\n",
    "import spacy\n",
    "from spacy.lang.de import German\n",
    "import string\n",
    "import datetime\n",
    "import dateparser\n",
    "import tensorflow as tf\n",
    "import torch\n",
    "import calendar\n",
    "import re\n",
    "import openai\n",
    "from gensim import corpora, models\n",
    "from gensim.models import CoherenceModel, LdaMulticore\n",
    "from textblob_de import TextBlobDE\n",
    "from transformers import AutoTokenizer, AutoModelForSequenceClassification\n",
    "from sklearn.linear_model import LinearRegression\n",
    "from sklearn.linear_model import LogisticRegression\n",
    "from sklearn.linear_model import LassoCV\n",
    "from sklearn.linear_model import Lasso\n",
    "from sklearn.metrics import confusion_matrix, classification_report\n",
    "from sklearn.model_selection import train_test_split\n",
    "from sklearn.feature_extraction.text import TfidfVectorizer\n",
    "from sklearn.feature_extraction.text import CountVectorizer\n",
    "from collections import Counter\n",
    "from wordcloud import WordCloud\n",
    "\n",
    "# Set a color palette for all plots\n",
    "sns.set_palette(sns.color_palette(['#FF7F50']))\n",
    "# For reproducibility\n",
    "np.random.seed(42)"
   ]
  },
  {
   "cell_type": "markdown",
   "id": "198dc01b",
   "metadata": {},
   "source": [
    "### Data Loading\n",
    "\n",
    "In this section, we import the dataset from our source (we performed web scraping fomr the job review platforms glassdoor, stepstone and indeed) and load it into our Python environment, laying the groundwork for our exploratory data analysis and preprocessing tasks. We also have a first look how the raw data looks like."
   ]
  },
  {
   "cell_type": "code",
   "execution_count": 2,
   "id": "f3797939",
   "metadata": {},
   "outputs": [
    {
     "data": {
      "text/html": [
       "<div>\n",
       "<style scoped>\n",
       "    .dataframe tbody tr th:only-of-type {\n",
       "        vertical-align: middle;\n",
       "    }\n",
       "\n",
       "    .dataframe tbody tr th {\n",
       "        vertical-align: top;\n",
       "    }\n",
       "\n",
       "    .dataframe thead th {\n",
       "        text-align: right;\n",
       "    }\n",
       "</style>\n",
       "<table border=\"1\" class=\"dataframe\">\n",
       "  <thead>\n",
       "    <tr style=\"text-align: right;\">\n",
       "      <th></th>\n",
       "      <th>title</th>\n",
       "      <th>author_info</th>\n",
       "      <th>rating</th>\n",
       "      <th>pros</th>\n",
       "      <th>cons</th>\n",
       "    </tr>\n",
       "  </thead>\n",
       "  <tbody>\n",
       "    <tr>\n",
       "      <th>0</th>\n",
       "      <td>Super</td>\n",
       "      <td>5. Mai 2023 - Chemikant und Anlagenfahrer</td>\n",
       "      <td>5</td>\n",
       "      <td>Gutes Gehalt, gute Arbeitszeit, gute Kollegen,...</td>\n",
       "      <td>Ein riesiger laden etwas zu groß für mich</td>\n",
       "    </tr>\n",
       "    <tr>\n",
       "      <th>1</th>\n",
       "      <td>Verbesserungsvorschläge für eine noch bessere ...</td>\n",
       "      <td>20. Mai 2023 - Anlagenmechaniker</td>\n",
       "      <td>4</td>\n",
       "      <td>Globale Präsenz: BASF ist ein multinationaler ...</td>\n",
       "      <td>Größe und Komplexität: Als globaler Konzern mi...</td>\n",
       "    </tr>\n",
       "    <tr>\n",
       "      <th>2</th>\n",
       "      <td>Gutes Gehalt, flexible Zeiten</td>\n",
       "      <td>23. Mai 2023 - Industriemechaniker</td>\n",
       "      <td>4</td>\n",
       "      <td>Das Einstiegsgehalt ist für einen Ausbildungsb...</td>\n",
       "      <td>Aufstiegsmöglichkeiten aufgrund der hohen Meng...</td>\n",
       "    </tr>\n",
       "    <tr>\n",
       "      <th>3</th>\n",
       "      <td>Nettes Team, gute Erfahrung</td>\n",
       "      <td>16. Mai 2023 - Werkstudent</td>\n",
       "      <td>3</td>\n",
       "      <td>Team, Einblicke, Support... Es hat Spaß gemach...</td>\n",
       "      <td>Die Organisation hat zeitweilig zu wünschen üb...</td>\n",
       "    </tr>\n",
       "    <tr>\n",
       "      <th>4</th>\n",
       "      <td>Führen durch Intransparenz</td>\n",
       "      <td>5. Mai 2023 - Ingenieur</td>\n",
       "      <td>2</td>\n",
       "      <td>Kündigungsschutz (betrieblich bedingt) von 5 J...</td>\n",
       "      <td>Management, Führungskräfte und das gesamte Sys...</td>\n",
       "    </tr>\n",
       "  </tbody>\n",
       "</table>\n",
       "</div>"
      ],
      "text/plain": [
       "                                               title  \\\n",
       "0                                              Super   \n",
       "1  Verbesserungsvorschläge für eine noch bessere ...   \n",
       "2                      Gutes Gehalt, flexible Zeiten   \n",
       "3                        Nettes Team, gute Erfahrung   \n",
       "4                         Führen durch Intransparenz   \n",
       "\n",
       "                                 author_info  rating  \\\n",
       "0  5. Mai 2023 - Chemikant und Anlagenfahrer       5   \n",
       "1           20. Mai 2023 - Anlagenmechaniker       4   \n",
       "2         23. Mai 2023 - Industriemechaniker       4   \n",
       "3                 16. Mai 2023 - Werkstudent       3   \n",
       "4                    5. Mai 2023 - Ingenieur       2   \n",
       "\n",
       "                                                pros  \\\n",
       "0  Gutes Gehalt, gute Arbeitszeit, gute Kollegen,...   \n",
       "1  Globale Präsenz: BASF ist ein multinationaler ...   \n",
       "2  Das Einstiegsgehalt ist für einen Ausbildungsb...   \n",
       "3  Team, Einblicke, Support... Es hat Spaß gemach...   \n",
       "4  Kündigungsschutz (betrieblich bedingt) von 5 J...   \n",
       "\n",
       "                                                cons  \n",
       "0          Ein riesiger laden etwas zu groß für mich  \n",
       "1  Größe und Komplexität: Als globaler Konzern mi...  \n",
       "2  Aufstiegsmöglichkeiten aufgrund der hohen Meng...  \n",
       "3  Die Organisation hat zeitweilig zu wünschen üb...  \n",
       "4  Management, Führungskräfte und das gesamte Sys...  "
      ]
     },
     "execution_count": 2,
     "metadata": {},
     "output_type": "execute_result"
    }
   ],
   "source": [
    "df_1 = pd.read_csv('./data/dataset1_german_187.csv', delimiter=';')\n",
    "\n",
    "df_1.drop(columns=['Column1'], inplace=True)\n",
    "df_1.head()"
   ]
  },
  {
   "cell_type": "code",
   "execution_count": 3,
   "id": "234d10c2",
   "metadata": {},
   "outputs": [
    {
     "data": {
      "text/html": [
       "<div>\n",
       "<style scoped>\n",
       "    .dataframe tbody tr th:only-of-type {\n",
       "        vertical-align: middle;\n",
       "    }\n",
       "\n",
       "    .dataframe tbody tr th {\n",
       "        vertical-align: top;\n",
       "    }\n",
       "\n",
       "    .dataframe thead th {\n",
       "        text-align: right;\n",
       "    }\n",
       "</style>\n",
       "<table border=\"1\" class=\"dataframe\">\n",
       "  <thead>\n",
       "    <tr style=\"text-align: right;\">\n",
       "      <th></th>\n",
       "      <th>title</th>\n",
       "      <th>author_info</th>\n",
       "      <th>rating</th>\n",
       "      <th>pros</th>\n",
       "      <th>cons</th>\n",
       "      <th>date</th>\n",
       "    </tr>\n",
       "  </thead>\n",
       "  <tbody>\n",
       "    <tr>\n",
       "      <th>0</th>\n",
       "      <td>Arbeiten bei einem der besten Arbeitgeber Deut...</td>\n",
       "      <td>Mitarbeiter im Bereich Anonym in Lampertheim, ...</td>\n",
       "      <td>5.0</td>\n",
       "      <td>Das sehr positive Arbeitsumfeld mit sehr stark...</td>\n",
       "      <td>Die Work-Life-Balance ist Top, das Gehalt ist ...</td>\n",
       "      <td>15.10.2020</td>\n",
       "    </tr>\n",
       "    <tr>\n",
       "      <th>1</th>\n",
       "      <td>Geld ist nicht alles</td>\n",
       "      <td>Mitarbeiter im Bereich Logistik in Hamm, Deuts...</td>\n",
       "      <td>1.0</td>\n",
       "      <td>Sehr Gutes Gehalt. Wäre das Gehalt nicht so ho...</td>\n",
       "      <td>Menschlichkeit. Man ist dort nur eine nr. Nr k...</td>\n",
       "      <td>2021</td>\n",
       "    </tr>\n",
       "  </tbody>\n",
       "</table>\n",
       "</div>"
      ],
      "text/plain": [
       "                                               title  \\\n",
       "0  Arbeiten bei einem der besten Arbeitgeber Deut...   \n",
       "1                               Geld ist nicht alles   \n",
       "\n",
       "                                         author_info  rating  \\\n",
       "0  Mitarbeiter im Bereich Anonym in Lampertheim, ...     5.0   \n",
       "1  Mitarbeiter im Bereich Logistik in Hamm, Deuts...     1.0   \n",
       "\n",
       "                                                pros  \\\n",
       "0  Das sehr positive Arbeitsumfeld mit sehr stark...   \n",
       "1  Sehr Gutes Gehalt. Wäre das Gehalt nicht so ho...   \n",
       "\n",
       "                                                cons        date  \n",
       "0  Die Work-Life-Balance ist Top, das Gehalt ist ...  15.10.2020  \n",
       "1  Menschlichkeit. Man ist dort nur eine nr. Nr k...        2021  "
      ]
     },
     "execution_count": 3,
     "metadata": {},
     "output_type": "execute_result"
    }
   ],
   "source": [
    "df_2 = pd.read_csv('./data/dataset2_german_88_stepstone.csv', delimiter=';', encoding='iso-8859-1')\n",
    "df_2.head(2)"
   ]
  },
  {
   "cell_type": "code",
   "execution_count": 4,
   "id": "f63c831a",
   "metadata": {},
   "outputs": [
    {
     "data": {
      "text/html": [
       "<div>\n",
       "<style scoped>\n",
       "    .dataframe tbody tr th:only-of-type {\n",
       "        vertical-align: middle;\n",
       "    }\n",
       "\n",
       "    .dataframe tbody tr th {\n",
       "        vertical-align: top;\n",
       "    }\n",
       "\n",
       "    .dataframe thead th {\n",
       "        text-align: right;\n",
       "    }\n",
       "</style>\n",
       "<table border=\"1\" class=\"dataframe\">\n",
       "  <thead>\n",
       "    <tr style=\"text-align: right;\">\n",
       "      <th></th>\n",
       "      <th>title</th>\n",
       "      <th>author_info</th>\n",
       "      <th>rating</th>\n",
       "      <th>review</th>\n",
       "    </tr>\n",
       "  </thead>\n",
       "  <tbody>\n",
       "    <tr>\n",
       "      <th>0</th>\n",
       "      <td>Toller Arbeitgeber, spannendes Tätigkeitsfeld,...</td>\n",
       "      <td>Mechatroniker (Derzeitiger Mitarbeiter) - Anla...</td>\n",
       "      <td>4.0</td>\n",
       "      <td>Diese Bewertung der Unternehmens erfolgt aus m...</td>\n",
       "    </tr>\n",
       "    <tr>\n",
       "      <th>1</th>\n",
       "      <td>Lasst es...</td>\n",
       "      <td>koch (Ehemaliger Mitarbeiter) - Ludwigshafen a...</td>\n",
       "      <td>1.0</td>\n",
       "      <td>Arroganz und Ignoranz made by BASF Gastronomie...</td>\n",
       "    </tr>\n",
       "  </tbody>\n",
       "</table>\n",
       "</div>"
      ],
      "text/plain": [
       "                                               title  \\\n",
       "0  Toller Arbeitgeber, spannendes Tätigkeitsfeld,...   \n",
       "1                                        Lasst es...   \n",
       "\n",
       "                                         author_info  rating  \\\n",
       "0  Mechatroniker (Derzeitiger Mitarbeiter) - Anla...     4.0   \n",
       "1  koch (Ehemaliger Mitarbeiter) - Ludwigshafen a...     1.0   \n",
       "\n",
       "                                              review  \n",
       "0  Diese Bewertung der Unternehmens erfolgt aus m...  \n",
       "1  Arroganz und Ignoranz made by BASF Gastronomie...  "
      ]
     },
     "execution_count": 4,
     "metadata": {},
     "output_type": "execute_result"
    }
   ],
   "source": [
    "df_3 = pd.read_csv('./data/dataset3_german_68_indeed.csv', delimiter=';', encoding='iso-8859-1')\n",
    "df_3.drop('Unnamed: 4', axis=1, inplace=True)\n",
    "df_3.head(2)"
   ]
  },
  {
   "cell_type": "code",
   "execution_count": 5,
   "id": "8b2a692f",
   "metadata": {
    "scrolled": true
   },
   "outputs": [
    {
     "name": "stdout",
     "output_type": "stream",
     "text": [
      "Shape of Glassdoor Data: (187, 5)\n",
      "Shape of Stepstone Data: (91, 6)\n",
      "Shape of Indeed Data: (67, 4)\n"
     ]
    }
   ],
   "source": [
    "# How much reviews do we have and how many different columns?\n",
    "print(\"Shape of Glassdoor Data:\", df_1.shape)\n",
    "print(\"Shape of Stepstone Data:\", df_2.shape)\n",
    "print(\"Shape of Indeed Data:\", df_3.shape)"
   ]
  },
  {
   "cell_type": "code",
   "execution_count": 6,
   "id": "88c9cdd2",
   "metadata": {},
   "outputs": [],
   "source": [
    "# Create the 'plots' directory if it doesn't exist to save plots\n",
    "if not os.path.exists('plots'):\n",
    "    os.makedirs('plots')"
   ]
  },
  {
   "cell_type": "markdown",
   "id": "876b39f4",
   "metadata": {},
   "source": [
    "The raw data we have at our disposal comes in the form of CSV files, containing 187, 91 and 87 distinct job reviews from employees at BASF, filtered for reviews in German. Our CSV files is organized into different columns: the title of the review, the author's information (including date and job title), an overall rating, and two text fields named 'pros' and 'cons', where employees have listed positive and negative aspects of their job experiences, respectively. However, we see that we have a quite different structure for the other two dataframes. So in the next step, we will bring the data in a unified format."
   ]
  },
  {
   "cell_type": "markdown",
   "id": "66b92de9",
   "metadata": {},
   "source": [
    "### Data Cleaning\n",
    "\n",
    "Next, we start by structuring and refining the raw data to make it more suitable for analysis and combine all three datasources into a single dataframe. We split the 'author_info' column into two separate columns: 'Date' and 'Job', which holds the timestamp of the review and the position of the reviewer respectively. This is followed by converting the 'Date' column to datetime format to ensure consistency in our data.\n",
    "\n",
    "Leading and trailing whitespaces, which can introduce errors and inconsistencies in our analysis, are then removed from all columns. To ensure data integrity, we check for missing values and duplicates and delete those duplicates as they do not add any value to our analysis. We see that we have some missing values in some columns like sometimes there is no date or the indeed job base has no separate text fields for pros and cons in general. Since we can't impute those values, one way to handle them would be to delete those reviews which contain a missing value. However, this would result in an information loss. Therefore we will just handle the missing values separately in each analysis, because sometimes we do not need the date for a specific analysis and want to keep the other information therefore whereas sometimes we are just investigating the rating and time and do not need the pros and cons content for example. \n",
    "\n",
    "Then we are also ensuring that all our text columns are of the correct string data type, which is crucial for the text processing steps that follow.\n",
    "\n",
    "We then combine the 'title', 'pros', and 'cons' columns into a single 'text' column to create a holistic view of each review. Additionally, we compute and store the length of each review and the length of the pros and cons individually. This could provide interesting insights into the depth of positive and negative sentiment expressed in the reviews."
   ]
  },
  {
   "cell_type": "code",
   "execution_count": 7,
   "id": "0617f6cc",
   "metadata": {},
   "outputs": [],
   "source": [
    "# Bring the first dataframe into the right format\n",
    "\n",
    "# Split the 'author_info' column into 'Date' and 'Job' columns\n",
    "df_1[['date', 'job']] = df_1['author_info'].str.split('-', 1, expand=True)\n",
    "# Fill missing values with an empty string\n",
    "df_1['pros'] = df_1['pros'].fillna('')\n",
    "df_1['cons'] = df_1['cons'].fillna('')\n",
    "# Create a variable for the whole review containing pros and cons\n",
    "df_1['review'] = df_1['pros'] + ' ' + df_1['cons']\n",
    "# Create a variable for the source\n",
    "df_1['platform'] = 'glassdoor'\n",
    "# Delete uneccessary column\n",
    "df_1.drop(['author_info'], axis=1, inplace=True)\n",
    "# Convert the Date column to datetime format\n",
    "df_1['date'] = df_1['date'].apply(lambda x: dateparser.parse(x, languages=['de']))\n",
    "# Remove leading and trailing whitespaces from all columns\n",
    "df_1 = df_1.applymap(lambda x: x.strip() if isinstance(x, str) else x)"
   ]
  },
  {
   "cell_type": "code",
   "execution_count": 8,
   "id": "bbbb403f",
   "metadata": {},
   "outputs": [
    {
     "data": {
      "text/plain": [
       "title       0\n",
       "rating      0\n",
       "pros        0\n",
       "cons        0\n",
       "date        0\n",
       "job         0\n",
       "review      0\n",
       "platform    0\n",
       "dtype: int64"
      ]
     },
     "execution_count": 8,
     "metadata": {},
     "output_type": "execute_result"
    }
   ],
   "source": [
    "df_1.isnull().sum()"
   ]
  },
  {
   "cell_type": "code",
   "execution_count": 9,
   "id": "577b99c2",
   "metadata": {},
   "outputs": [],
   "source": [
    "# Bring the second dataframe into the right format\n",
    "\n",
    "# Build a function that can handle the different data types\n",
    "def custom_date_parser(date_str):\n",
    "    if pd.isnull(date_str):\n",
    "        return None\n",
    "    \n",
    "    # Remove leading or trailing whitespaces and replace non-visible characters\n",
    "    date_str = date_str.strip().replace('\\n', '').replace('\\r', '').replace('\\t', '')\n",
    "\n",
    "    # Try to convert the full date format\n",
    "    try:\n",
    "        return pd.to_datetime(date_str, format='%d.%m.%Y')\n",
    "    except ValueError:\n",
    "        pass  # Go to the next format\n",
    "\n",
    "    # Try to convert year only format\n",
    "    try:\n",
    "        return pd.to_datetime(date_str, format='%Y')\n",
    "    except ValueError:\n",
    "        return None  # Return None if the date string can't be converted\n",
    "\n",
    "# Apply the function to the date column\n",
    "df_2['date'] = df_2['date'].apply(custom_date_parser)\n",
    "# Remove non-breaking spaces\n",
    "df_2.replace('\\xa0', ' ', regex=True, inplace=True)\n",
    "# Remove leading and trailing whitespaces from all columns\n",
    "df_2 = df_2.applymap(lambda x: x.strip() if isinstance(x, str) else x)\n",
    "# Fill missing values with an empty string\n",
    "df_2['pros'] = df_2['pros'].fillna('')\n",
    "df_2['cons'] = df_2['cons'].fillna('')\n",
    "# Create a variable for the whole review containing pros and cons\n",
    "df_2['review'] = df_2['pros'] + ' ' + df_2['cons']\n",
    "# Create a variable for the source\n",
    "df_2['platform'] = 'stepstone'\n",
    "# Delete uneccessary column\n",
    "df_2.drop(['author_info'], axis=1, inplace=True)"
   ]
  },
  {
   "cell_type": "code",
   "execution_count": 10,
   "id": "18e12c86",
   "metadata": {},
   "outputs": [
    {
     "data": {
      "text/plain": [
       "title       0\n",
       "rating      0\n",
       "pros        0\n",
       "cons        0\n",
       "date        0\n",
       "review      0\n",
       "platform    0\n",
       "dtype: int64"
      ]
     },
     "execution_count": 10,
     "metadata": {},
     "output_type": "execute_result"
    }
   ],
   "source": [
    "df_2.isnull().sum()"
   ]
  },
  {
   "cell_type": "code",
   "execution_count": 11,
   "id": "a4f26908",
   "metadata": {},
   "outputs": [],
   "source": [
    "# Process df_3\n",
    "\n",
    "# Define function to extract date\n",
    "def extract_date(author_info):\n",
    "    match = re.search(r'\\d{1,2}\\. \\w+ \\d{2,4}', author_info)\n",
    "    if match:\n",
    "        return dateparser.parse(match.group(), languages=['de'])\n",
    "    else:\n",
    "        return None\n",
    "\n",
    "# Apply the function to the author_info column\n",
    "df_3['date'] = df_3['author_info'].apply(extract_date)\n",
    "\n",
    "def extract_job(author_info):\n",
    "    match = re.search(r'(.*)\\s-\\s.*\\d{2,4}', author_info)\n",
    "    if match:\n",
    "        return match.group(1).strip()\n",
    "    else:\n",
    "        return author_info  # Return the original string if no date is found\n",
    "\n",
    "# Apply the function to the author_info column\n",
    "df_3['job'] = df_3['author_info'].apply(extract_job)\n",
    "# Create a variable for the source\n",
    "df_3['platform'] = 'indeed'\n",
    "# Drop uneccessary column\n",
    "df_3 = df_3.drop(['author_info'], axis=1)\n",
    "# Remove leading and trailing whitespaces from all columns\n",
    "df_1 = df_1.applymap(lambda x: x.strip() if isinstance(x, str) else x)"
   ]
  },
  {
   "cell_type": "code",
   "execution_count": 12,
   "id": "6631822a",
   "metadata": {},
   "outputs": [
    {
     "data": {
      "text/plain": [
       "title        0\n",
       "rating       0\n",
       "review       0\n",
       "date        37\n",
       "job          0\n",
       "platform     0\n",
       "dtype: int64"
      ]
     },
     "execution_count": 12,
     "metadata": {},
     "output_type": "execute_result"
    }
   ],
   "source": [
    "df_3.isnull().sum()"
   ]
  },
  {
   "cell_type": "code",
   "execution_count": 13,
   "id": "2db484e1",
   "metadata": {},
   "outputs": [],
   "source": [
    "# Combine all three dataframes\n",
    "df = pd.concat([df_1, df_2, df_3], ignore_index=True)"
   ]
  },
  {
   "cell_type": "code",
   "execution_count": 14,
   "id": "7bdf79be",
   "metadata": {},
   "outputs": [],
   "source": [
    "# Test Notebook without new data\n",
    "df = df_1"
   ]
  },
  {
   "cell_type": "code",
   "execution_count": 15,
   "id": "b5bad8a1",
   "metadata": {},
   "outputs": [
    {
     "name": "stdout",
     "output_type": "stream",
     "text": [
      "Number of missing values: 0\n",
      "Number of duplicates: 0\n"
     ]
    }
   ],
   "source": [
    "# Check for missing values and duplicates\n",
    "print(\"Number of missing values:\", df.isnull().sum().sum())\n",
    "print(\"Number of duplicates:\", df.duplicated().sum())\n",
    "if df.duplicated().sum() != 0:\n",
    "    print(\"Deleting duplicates ... \")\n",
    "    df = df.drop_duplicates()"
   ]
  },
  {
   "cell_type": "code",
   "execution_count": 16,
   "id": "3c546477",
   "metadata": {},
   "outputs": [],
   "source": [
    "# Ensure all text columns are of type string\n",
    "text_cols = ['title', 'pros', 'cons', 'job', 'review']\n",
    "for col in text_cols:\n",
    "    df[col] = df[col].astype(str)"
   ]
  },
  {
   "cell_type": "markdown",
   "id": "90db80e8",
   "metadata": {},
   "source": [
    "### Feature Engineering\n",
    "\n",
    "In the task of feature engineering, we create new variables or modify existing ones to enhance the machine learning model's ability to discern patterns, capture information, and ultimately, improve its performance."
   ]
  },
  {
   "cell_type": "code",
   "execution_count": 17,
   "id": "99ca08ce",
   "metadata": {},
   "outputs": [],
   "source": [
    "# Combine title, pros, cons into one column\n",
    "df['text'] = df['title'] + '; ' + df['pros'] + '; ' + df['cons']"
   ]
  },
  {
   "cell_type": "code",
   "execution_count": 18,
   "id": "a8adc3b3",
   "metadata": {},
   "outputs": [],
   "source": [
    "# Compute the length of reviews in words\n",
    "def count_words(text):\n",
    "    return len(text.split())\n",
    "\n",
    "df['review_length'] = df['text'].apply(count_words)\n",
    "df['title_length'] = df['title'].apply(count_words)\n",
    "df['pros_length'] = df['pros'].apply(count_words)\n",
    "df['cons_length'] = df['cons'].apply(count_words)"
   ]
  },
  {
   "cell_type": "code",
   "execution_count": 19,
   "id": "b47cdab8",
   "metadata": {},
   "outputs": [
    {
     "data": {
      "text/html": [
       "<div>\n",
       "<style scoped>\n",
       "    .dataframe tbody tr th:only-of-type {\n",
       "        vertical-align: middle;\n",
       "    }\n",
       "\n",
       "    .dataframe tbody tr th {\n",
       "        vertical-align: top;\n",
       "    }\n",
       "\n",
       "    .dataframe thead th {\n",
       "        text-align: right;\n",
       "    }\n",
       "</style>\n",
       "<table border=\"1\" class=\"dataframe\">\n",
       "  <thead>\n",
       "    <tr style=\"text-align: right;\">\n",
       "      <th></th>\n",
       "      <th>title</th>\n",
       "      <th>rating</th>\n",
       "      <th>pros</th>\n",
       "      <th>cons</th>\n",
       "      <th>date</th>\n",
       "      <th>job</th>\n",
       "      <th>review</th>\n",
       "      <th>platform</th>\n",
       "      <th>text</th>\n",
       "      <th>review_length</th>\n",
       "      <th>title_length</th>\n",
       "      <th>pros_length</th>\n",
       "      <th>cons_length</th>\n",
       "    </tr>\n",
       "  </thead>\n",
       "  <tbody>\n",
       "    <tr>\n",
       "      <th>0</th>\n",
       "      <td>Super</td>\n",
       "      <td>5</td>\n",
       "      <td>Gutes Gehalt, gute Arbeitszeit, gute Kollegen,...</td>\n",
       "      <td>Ein riesiger laden etwas zu groß für mich</td>\n",
       "      <td>2023-05-05</td>\n",
       "      <td>Chemikant und Anlagenfahrer</td>\n",
       "      <td>Gutes Gehalt, gute Arbeitszeit, gute Kollegen,...</td>\n",
       "      <td>glassdoor</td>\n",
       "      <td>Super; Gutes Gehalt, gute Arbeitszeit, gute Ko...</td>\n",
       "      <td>17</td>\n",
       "      <td>1</td>\n",
       "      <td>8</td>\n",
       "      <td>8</td>\n",
       "    </tr>\n",
       "    <tr>\n",
       "      <th>1</th>\n",
       "      <td>Verbesserungsvorschläge für eine noch bessere ...</td>\n",
       "      <td>4</td>\n",
       "      <td>Globale Präsenz: BASF ist ein multinationaler ...</td>\n",
       "      <td>Größe und Komplexität: Als globaler Konzern mi...</td>\n",
       "      <td>2023-05-20</td>\n",
       "      <td>Anlagenmechaniker</td>\n",
       "      <td>Globale Präsenz: BASF ist ein multinationaler ...</td>\n",
       "      <td>glassdoor</td>\n",
       "      <td>Verbesserungsvorschläge für eine noch bessere ...</td>\n",
       "      <td>339</td>\n",
       "      <td>8</td>\n",
       "      <td>162</td>\n",
       "      <td>169</td>\n",
       "    </tr>\n",
       "  </tbody>\n",
       "</table>\n",
       "</div>"
      ],
      "text/plain": [
       "                                               title  rating  \\\n",
       "0                                              Super       5   \n",
       "1  Verbesserungsvorschläge für eine noch bessere ...       4   \n",
       "\n",
       "                                                pros  \\\n",
       "0  Gutes Gehalt, gute Arbeitszeit, gute Kollegen,...   \n",
       "1  Globale Präsenz: BASF ist ein multinationaler ...   \n",
       "\n",
       "                                                cons       date  \\\n",
       "0          Ein riesiger laden etwas zu groß für mich 2023-05-05   \n",
       "1  Größe und Komplexität: Als globaler Konzern mi... 2023-05-20   \n",
       "\n",
       "                           job  \\\n",
       "0  Chemikant und Anlagenfahrer   \n",
       "1            Anlagenmechaniker   \n",
       "\n",
       "                                              review   platform  \\\n",
       "0  Gutes Gehalt, gute Arbeitszeit, gute Kollegen,...  glassdoor   \n",
       "1  Globale Präsenz: BASF ist ein multinationaler ...  glassdoor   \n",
       "\n",
       "                                                text  review_length  \\\n",
       "0  Super; Gutes Gehalt, gute Arbeitszeit, gute Ko...             17   \n",
       "1  Verbesserungsvorschläge für eine noch bessere ...            339   \n",
       "\n",
       "   title_length  pros_length  cons_length  \n",
       "0             1            8            8  \n",
       "1             8          162          169  "
      ]
     },
     "execution_count": 19,
     "metadata": {},
     "output_type": "execute_result"
    }
   ],
   "source": [
    "df.head(2)"
   ]
  },
  {
   "cell_type": "markdown",
   "id": "468a9ae0",
   "metadata": {},
   "source": [
    "### Data Preprocessing / Text Normalization\n",
    "\n",
    "Data preprocessing and text normalization are essential steps in the analysis of textual data. Raw text data is often unstructured, noisy, and full of irrelevant information, making it difficult for machine learning algorithms to directly extract meaningful insights. By performing preprocessing and normalization, we convert the text into a more manageable and homogenous form, eliminating irrelevant information and highlighting the key components of the text that are most relevant to our analysis. This not only improves the performance of our subsequent sentiment analysis but also enhances the interpretability and reliability of our results. Text normalization steps usually include:\n",
    "\n",
    "- Lowercasing: Convert all the text to lowercase. This is important because 'word', 'Word', and 'WORD' are the same but would be treated differently if not standardized.\n",
    "- Removing Punctuation: Punctuation does not usually add much value in understanding the sentiment and can therefore be removed.\n",
    "- Removing Stop Words: Stop words are common words like 'and', 'the', 'is', etc. that do not carry a lot of meaning and are usually removed from the text. Since your reviews are in German, you need to use German stop words.\n",
    "- Stemming/Lemmatization: This is the process of converting a word to its base form. For example, the lemmatizer would convert 'cars' to 'car'. For German text, we can use the 'Spacy' library, which supports German lemmatization.\n",
    "\n",
    "Stemming vs. Lemmatization:\n",
    "- Stemming: This process reduces words to their stem or root form. It usually involves chopping off the ends of words and is typically more crude than lemmatization. For instance, a stemming algorithm might reduce the words \"fishing\", \"fished\", and \"fisher\" all to the stem \"fish\". Stemming is typically faster as it simply chops off the ends of words using heuristics, without any understanding of the context in which a word is used. The stemmed words may not be semantically correct.\n",
    "\n",
    "- Lemmatization: This process also reduces words to their base or root form, but unlike stemming, it understands the context in which a word is used and performs the reduction based on the actual morphological analysis of the word. This means that it's usually more accurate, resulting in an actual word from the language. For example, a lemmatizer knows that 'is', 'was', and 'am' are all forms of the verb 'be', and can reduce all of them to 'be'.\n",
    "\n",
    "- Examples:\n",
    "    - Stemming: \"running\" -> \"run\", \"better\" -> \"bet\"\n",
    "    - Lemmatization: \"running\" -> \"run\", \"better\" -> \"good\"\n",
    "\n",
    "- In summary, stemming is faster and simpler but less accurate, while lemmatization is more accurate but computationally more complex. For many tasks, the increased accuracy of lemmatization makes it worth the extra computation. Therefore we will use lemmatization in this project."
   ]
  },
  {
   "cell_type": "code",
   "execution_count": 20,
   "id": "372e065a",
   "metadata": {},
   "outputs": [
    {
     "name": "stderr",
     "output_type": "stream",
     "text": [
      "[nltk_data] Downloading package stopwords to\n",
      "[nltk_data]     C:\\Users\\dominik\\AppData\\Roaming\\nltk_data...\n",
      "[nltk_data]   Package stopwords is already up-to-date!\n"
     ]
    }
   ],
   "source": [
    "# Initialize Spacy 'de' model, keeping only tagger component needed for lemmatization\n",
    "nlp = spacy.load('de_core_news_sm', disable=['parser', 'ner'])\n",
    "\n",
    "# German stopwords\n",
    "nltk.download('stopwords')\n",
    "stop_words = set(stopwords.words('german'))\n",
    "# add 'BASF' to the stopwords as the company name does not add value to the analysis\n",
    "stop_words.add('basf')"
   ]
  },
  {
   "cell_type": "code",
   "execution_count": 21,
   "id": "4160cc7f",
   "metadata": {},
   "outputs": [],
   "source": [
    "def preprocess_text(text):\n",
    "    # Lowercasing\n",
    "    text = text.lower()\n",
    "    \n",
    "    # Remove punctuation and numbers\n",
    "    text = text.translate(str.maketrans('', '', string.punctuation + '0123456789'))\n",
    "    \n",
    "    # Remove stopwords and lemmatize\n",
    "    text = nlp(text) # This performs a tokenization\n",
    "    text = ' '.join([token.lemma_ for token in text if token.text not in stop_words]) # Join tokens back to full string\n",
    "    \n",
    "    # Remove extra whitespaces\n",
    "    text = ' '.join(text.split())\n",
    "    \n",
    "    return text"
   ]
  },
  {
   "cell_type": "code",
   "execution_count": 22,
   "id": "3ea0e739",
   "metadata": {},
   "outputs": [],
   "source": [
    "# Apply preprocessing\n",
    "df['processed_text'] = df['text'].apply(preprocess_text)"
   ]
  },
  {
   "cell_type": "code",
   "execution_count": 23,
   "id": "c60c6e21",
   "metadata": {},
   "outputs": [],
   "source": [
    "# Tokenize the preprocessed text column for later purposes\n",
    "df['tokens'] = df['processed_text'].apply(lambda x: x.split())"
   ]
  },
  {
   "cell_type": "markdown",
   "id": "88981aff",
   "metadata": {},
   "source": [
    "### Unigrams vs. Bigrams\n",
    "Unigrams and bigrams are two types of \"n-grams\". Unigrams are single words, while bigrams are pairs of words. Unigrams might be suitable if the context doesn't matter much and each word can be considered individually. However, they can miss out on important context. For example, consider the phrases \"not good\" and \"so good\". When looking at unigrams, \"good\" would appear in both, but the sentiment is opposite.\n",
    "\n",
    "Bigrams can capture more context, as they consider pairs of words together. In the examples above, \"not good\" and \"so good\" would be treated as entirely different bigrams, allowing the model to better capture the sentiment. Bigrams can capture phrases that have specific meanings and sentiment implications together that wouldn't be captured when looking at unigrams.\n",
    "\n",
    "In many cases, it can be beneficial to include both unigrams and bigrams in our model. This would allow the model to use both individual words and pairs of words when learning the sentiment. In our case, since we are dealing with reviews, it could be beneficial to consider especially bigrams in our sentiment analysis to capture more nuanced sentiment expressions that might be missed when only considering individual words.\n",
    "\n",
    "When we create unigrams and bigrams, we usually employ a process known as vectorization. It's a way of transforming text data into a format that can be used in machine learning models. The most common type of vectorization is \"Bag of Words\", which creates a separate feature (or column) for each word (or pair of words, in the case of bigrams)."
   ]
  },
  {
   "cell_type": "code",
   "execution_count": 24,
   "id": "1f3e49dd",
   "metadata": {},
   "outputs": [],
   "source": [
    "# Create the CountVectorizer object\n",
    "unigram_vectorizer = CountVectorizer(ngram_range=(1, 1))\n",
    "bigram_vectorizer = CountVectorizer(ngram_range=(2, 2))\n",
    "\n",
    "# Apply the vectorizer to the 'processed_text' column to create unigrams\n",
    "unigram_features = unigram_vectorizer.fit_transform(df['processed_text'])\n",
    "# Create a DataFrame for unigrams\n",
    "unigram_df = pd.DataFrame(unigram_features.toarray(), columns=unigram_vectorizer.get_feature_names_out())\n",
    "\n",
    "# Apply the vectorizer to the 'processed_text' column to create bigrams\n",
    "bigram_features = bigram_vectorizer.fit_transform(df['processed_text'])\n",
    "# Create a DataFrame for bigrams\n",
    "bigram_df = pd.DataFrame(bigram_features.toarray(), columns=bigram_vectorizer.get_feature_names_out())"
   ]
  },
  {
   "cell_type": "code",
   "execution_count": 25,
   "id": "435b6e6c",
   "metadata": {},
   "outputs": [
    {
     "data": {
      "text/html": [
       "<div>\n",
       "<style scoped>\n",
       "    .dataframe tbody tr th:only-of-type {\n",
       "        vertical-align: middle;\n",
       "    }\n",
       "\n",
       "    .dataframe tbody tr th {\n",
       "        vertical-align: top;\n",
       "    }\n",
       "\n",
       "    .dataframe thead th {\n",
       "        text-align: right;\n",
       "    }\n",
       "</style>\n",
       "<table border=\"1\" class=\"dataframe\">\n",
       "  <thead>\n",
       "    <tr style=\"text-align: right;\">\n",
       "      <th></th>\n",
       "      <th>ab</th>\n",
       "      <th>abläuf</th>\n",
       "      <th>absicherung</th>\n",
       "      <th>absolut</th>\n",
       "      <th>abstellgleis</th>\n",
       "      <th>abstimmen</th>\n",
       "      <th>abteilung</th>\n",
       "      <th>abteilungsleitung</th>\n",
       "      <th>abwechselnd</th>\n",
       "      <th>abwechslung</th>\n",
       "      <th>...</th>\n",
       "      <th>übernahme</th>\n",
       "      <th>übernehmen</th>\n",
       "      <th>überqualifiziert</th>\n",
       "      <th>überraschen</th>\n",
       "      <th>überregulieren</th>\n",
       "      <th>übertrieben</th>\n",
       "      <th>überwiegend</th>\n",
       "      <th>üblich</th>\n",
       "      <th>übliche</th>\n",
       "      <th>übrig</th>\n",
       "    </tr>\n",
       "  </thead>\n",
       "  <tbody>\n",
       "    <tr>\n",
       "      <th>0</th>\n",
       "      <td>0</td>\n",
       "      <td>0</td>\n",
       "      <td>0</td>\n",
       "      <td>0</td>\n",
       "      <td>0</td>\n",
       "      <td>0</td>\n",
       "      <td>0</td>\n",
       "      <td>0</td>\n",
       "      <td>0</td>\n",
       "      <td>0</td>\n",
       "      <td>...</td>\n",
       "      <td>0</td>\n",
       "      <td>0</td>\n",
       "      <td>0</td>\n",
       "      <td>0</td>\n",
       "      <td>0</td>\n",
       "      <td>0</td>\n",
       "      <td>0</td>\n",
       "      <td>0</td>\n",
       "      <td>0</td>\n",
       "      <td>0</td>\n",
       "    </tr>\n",
       "    <tr>\n",
       "      <th>1</th>\n",
       "      <td>0</td>\n",
       "      <td>0</td>\n",
       "      <td>0</td>\n",
       "      <td>0</td>\n",
       "      <td>0</td>\n",
       "      <td>0</td>\n",
       "      <td>0</td>\n",
       "      <td>0</td>\n",
       "      <td>0</td>\n",
       "      <td>0</td>\n",
       "      <td>...</td>\n",
       "      <td>0</td>\n",
       "      <td>0</td>\n",
       "      <td>0</td>\n",
       "      <td>0</td>\n",
       "      <td>0</td>\n",
       "      <td>0</td>\n",
       "      <td>0</td>\n",
       "      <td>0</td>\n",
       "      <td>0</td>\n",
       "      <td>0</td>\n",
       "    </tr>\n",
       "    <tr>\n",
       "      <th>2</th>\n",
       "      <td>0</td>\n",
       "      <td>0</td>\n",
       "      <td>0</td>\n",
       "      <td>0</td>\n",
       "      <td>0</td>\n",
       "      <td>0</td>\n",
       "      <td>0</td>\n",
       "      <td>0</td>\n",
       "      <td>0</td>\n",
       "      <td>0</td>\n",
       "      <td>...</td>\n",
       "      <td>0</td>\n",
       "      <td>1</td>\n",
       "      <td>0</td>\n",
       "      <td>0</td>\n",
       "      <td>0</td>\n",
       "      <td>0</td>\n",
       "      <td>0</td>\n",
       "      <td>0</td>\n",
       "      <td>0</td>\n",
       "      <td>0</td>\n",
       "    </tr>\n",
       "  </tbody>\n",
       "</table>\n",
       "<p>3 rows × 1607 columns</p>\n",
       "</div>"
      ],
      "text/plain": [
       "   ab  abläuf  absicherung  absolut  abstellgleis  abstimmen  abteilung  \\\n",
       "0   0       0            0        0             0          0          0   \n",
       "1   0       0            0        0             0          0          0   \n",
       "2   0       0            0        0             0          0          0   \n",
       "\n",
       "   abteilungsleitung  abwechselnd  abwechslung  ...  übernahme  übernehmen  \\\n",
       "0                  0            0            0  ...          0           0   \n",
       "1                  0            0            0  ...          0           0   \n",
       "2                  0            0            0  ...          0           1   \n",
       "\n",
       "   überqualifiziert  überraschen  überregulieren  übertrieben  überwiegend  \\\n",
       "0                 0            0               0            0            0   \n",
       "1                 0            0               0            0            0   \n",
       "2                 0            0               0            0            0   \n",
       "\n",
       "   üblich  übliche  übrig  \n",
       "0       0        0      0  \n",
       "1       0        0      0  \n",
       "2       0        0      0  \n",
       "\n",
       "[3 rows x 1607 columns]"
      ]
     },
     "execution_count": 25,
     "metadata": {},
     "output_type": "execute_result"
    }
   ],
   "source": [
    "unigram_df.head(3)"
   ]
  },
  {
   "cell_type": "code",
   "execution_count": 26,
   "id": "c46efab6",
   "metadata": {},
   "outputs": [
    {
     "data": {
      "text/html": [
       "<div>\n",
       "<style scoped>\n",
       "    .dataframe tbody tr th:only-of-type {\n",
       "        vertical-align: middle;\n",
       "    }\n",
       "\n",
       "    .dataframe tbody tr th {\n",
       "        vertical-align: top;\n",
       "    }\n",
       "\n",
       "    .dataframe thead th {\n",
       "        text-align: right;\n",
       "    }\n",
       "</style>\n",
       "<table border=\"1\" class=\"dataframe\">\n",
       "  <thead>\n",
       "    <tr style=\"text-align: right;\">\n",
       "      <th></th>\n",
       "      <th>ab schlicht</th>\n",
       "      <th>abläuf prozesse</th>\n",
       "      <th>absicherung gut</th>\n",
       "      <th>absicherung langsam</th>\n",
       "      <th>absicherung urlaub</th>\n",
       "      <th>absolut arbeitnehmerfreundlich</th>\n",
       "      <th>abstellgleis jung</th>\n",
       "      <th>abstimmen müssen</th>\n",
       "      <th>abteilung ab</th>\n",
       "      <th>abteilung abstimmen</th>\n",
       "      <th>...</th>\n",
       "      <th>übernahme gut</th>\n",
       "      <th>übernehmen bereich</th>\n",
       "      <th>überqualifiziert stellenbesetzung</th>\n",
       "      <th>überraschen offen</th>\n",
       "      <th>überregulieren agil</th>\n",
       "      <th>übertrieben hierachien</th>\n",
       "      <th>überwiegend pragmatisch</th>\n",
       "      <th>üblich großunternehmen</th>\n",
       "      <th>übliche großunternehmen</th>\n",
       "      <th>übrig lassen</th>\n",
       "    </tr>\n",
       "  </thead>\n",
       "  <tbody>\n",
       "    <tr>\n",
       "      <th>0</th>\n",
       "      <td>0</td>\n",
       "      <td>0</td>\n",
       "      <td>0</td>\n",
       "      <td>0</td>\n",
       "      <td>0</td>\n",
       "      <td>0</td>\n",
       "      <td>0</td>\n",
       "      <td>0</td>\n",
       "      <td>0</td>\n",
       "      <td>0</td>\n",
       "      <td>...</td>\n",
       "      <td>0</td>\n",
       "      <td>0</td>\n",
       "      <td>0</td>\n",
       "      <td>0</td>\n",
       "      <td>0</td>\n",
       "      <td>0</td>\n",
       "      <td>0</td>\n",
       "      <td>0</td>\n",
       "      <td>0</td>\n",
       "      <td>0</td>\n",
       "    </tr>\n",
       "    <tr>\n",
       "      <th>1</th>\n",
       "      <td>0</td>\n",
       "      <td>0</td>\n",
       "      <td>0</td>\n",
       "      <td>0</td>\n",
       "      <td>0</td>\n",
       "      <td>0</td>\n",
       "      <td>0</td>\n",
       "      <td>0</td>\n",
       "      <td>0</td>\n",
       "      <td>0</td>\n",
       "      <td>...</td>\n",
       "      <td>0</td>\n",
       "      <td>0</td>\n",
       "      <td>0</td>\n",
       "      <td>0</td>\n",
       "      <td>0</td>\n",
       "      <td>0</td>\n",
       "      <td>0</td>\n",
       "      <td>0</td>\n",
       "      <td>0</td>\n",
       "      <td>0</td>\n",
       "    </tr>\n",
       "    <tr>\n",
       "      <th>2</th>\n",
       "      <td>0</td>\n",
       "      <td>0</td>\n",
       "      <td>0</td>\n",
       "      <td>0</td>\n",
       "      <td>0</td>\n",
       "      <td>0</td>\n",
       "      <td>0</td>\n",
       "      <td>0</td>\n",
       "      <td>0</td>\n",
       "      <td>0</td>\n",
       "      <td>...</td>\n",
       "      <td>0</td>\n",
       "      <td>1</td>\n",
       "      <td>0</td>\n",
       "      <td>0</td>\n",
       "      <td>0</td>\n",
       "      <td>0</td>\n",
       "      <td>0</td>\n",
       "      <td>0</td>\n",
       "      <td>0</td>\n",
       "      <td>0</td>\n",
       "    </tr>\n",
       "  </tbody>\n",
       "</table>\n",
       "<p>3 rows × 3110 columns</p>\n",
       "</div>"
      ],
      "text/plain": [
       "   ab schlicht  abläuf prozesse  absicherung gut  absicherung langsam  \\\n",
       "0            0                0                0                    0   \n",
       "1            0                0                0                    0   \n",
       "2            0                0                0                    0   \n",
       "\n",
       "   absicherung urlaub  absolut arbeitnehmerfreundlich  abstellgleis jung  \\\n",
       "0                   0                               0                  0   \n",
       "1                   0                               0                  0   \n",
       "2                   0                               0                  0   \n",
       "\n",
       "   abstimmen müssen  abteilung ab  abteilung abstimmen  ...  übernahme gut  \\\n",
       "0                 0             0                    0  ...              0   \n",
       "1                 0             0                    0  ...              0   \n",
       "2                 0             0                    0  ...              0   \n",
       "\n",
       "   übernehmen bereich  überqualifiziert stellenbesetzung  überraschen offen  \\\n",
       "0                   0                                  0                  0   \n",
       "1                   0                                  0                  0   \n",
       "2                   1                                  0                  0   \n",
       "\n",
       "   überregulieren agil  übertrieben hierachien  überwiegend pragmatisch  \\\n",
       "0                    0                       0                        0   \n",
       "1                    0                       0                        0   \n",
       "2                    0                       0                        0   \n",
       "\n",
       "   üblich großunternehmen  übliche großunternehmen  übrig lassen  \n",
       "0                       0                        0             0  \n",
       "1                       0                        0             0  \n",
       "2                       0                        0             0  \n",
       "\n",
       "[3 rows x 3110 columns]"
      ]
     },
     "execution_count": 26,
     "metadata": {},
     "output_type": "execute_result"
    }
   ],
   "source": [
    "bigram_df.head(3)"
   ]
  },
  {
   "cell_type": "markdown",
   "id": "28746f55",
   "metadata": {},
   "source": [
    "However, his process can generate a large number of features, which can slow down subsequent processing and require a significant amount of memory. It may be worthwhile to explore feature reduction techniques if the number of features becomes too large. One of those common techniques is **TF-IDF (Term Frequency-Inverse Document Frequency)** that can be used to prioritize the importance of different words for semantic understanding. TF-IDF values reflect the importance of a term to a document in comparison to all other documents in the corpus. Higher TF-IDF values are assigned to terms that appear frequently in a given document, but rarely across all documents, signifying that these terms are more important for understanding the specific document in question.\n",
    "\n",
    "With this step, we achieve a dimensionality reduction and also remove noise, as we only include words that occur in at least 2 reviews, but exclude those words that appear in more than 90% of the reviews. This means that a word that is part of nearly all documents does not provide any information (similar to stop words in some way)."
   ]
  },
  {
   "cell_type": "code",
   "execution_count": 27,
   "id": "6c82c26f",
   "metadata": {},
   "outputs": [],
   "source": [
    "# Create the TfidfVectorizer object\n",
    "# 'min_df' = remove terms that appear in less than 2 documents (or e.g. less than 1% if you use 0.01) of the documents\n",
    "# 'max_df' = remove terms that appear in more than 90% of the documents\n",
    "unigram_tfidf_vectorizer = TfidfVectorizer(ngram_range=(1, 1), min_df=2, max_df=0.9)\n",
    "bigram_tfidf_vectorizer = TfidfVectorizer(ngram_range=(2, 2), min_df=2, max_df=0.9)\n",
    "\n",
    "# Apply the vectorizer to the 'processed_text' column to create unigram tf-idfs\n",
    "unigram_tfidf_features = unigram_tfidf_vectorizer.fit_transform(df['processed_text'])\n",
    "# Create a DataFrame for unigram tf-idfs\n",
    "unigram_tfidf_df = pd.DataFrame(unigram_tfidf_features.toarray(), columns=unigram_tfidf_vectorizer.get_feature_names_out())\n",
    "\n",
    "# Apply the vectorizer to the 'processed_text' column to create bigram tf-idfs\n",
    "bigram_tfidf_features = bigram_tfidf_vectorizer.fit_transform(df['processed_text'])\n",
    "# Create a DataFrame for bigram tf-idfs\n",
    "bigram_tfidf_df = pd.DataFrame(bigram_tfidf_features.toarray(), columns=bigram_tfidf_vectorizer.get_feature_names_out())"
   ]
  },
  {
   "cell_type": "code",
   "execution_count": 28,
   "id": "fb6531ae",
   "metadata": {},
   "outputs": [
    {
     "data": {
      "text/html": [
       "<div>\n",
       "<style scoped>\n",
       "    .dataframe tbody tr th:only-of-type {\n",
       "        vertical-align: middle;\n",
       "    }\n",
       "\n",
       "    .dataframe tbody tr th {\n",
       "        vertical-align: top;\n",
       "    }\n",
       "\n",
       "    .dataframe thead th {\n",
       "        text-align: right;\n",
       "    }\n",
       "</style>\n",
       "<table border=\"1\" class=\"dataframe\">\n",
       "  <thead>\n",
       "    <tr style=\"text-align: right;\">\n",
       "      <th></th>\n",
       "      <th>absicherung</th>\n",
       "      <th>abteilung</th>\n",
       "      <th>achten</th>\n",
       "      <th>aktiv</th>\n",
       "      <th>aktivität</th>\n",
       "      <th>all</th>\n",
       "      <th>alt</th>\n",
       "      <th>altersvorsorge</th>\n",
       "      <th>always</th>\n",
       "      <th>and</th>\n",
       "      <th>...</th>\n",
       "      <th>zahlen</th>\n",
       "      <th>zeigen</th>\n",
       "      <th>zeit</th>\n",
       "      <th>zentral</th>\n",
       "      <th>ziel</th>\n",
       "      <th>zufrieden</th>\n",
       "      <th>zusammen</th>\n",
       "      <th>zusammenhalt</th>\n",
       "      <th>ändern</th>\n",
       "      <th>übernahme</th>\n",
       "    </tr>\n",
       "  </thead>\n",
       "  <tbody>\n",
       "    <tr>\n",
       "      <th>0</th>\n",
       "      <td>0.0</td>\n",
       "      <td>0.0</td>\n",
       "      <td>0.0</td>\n",
       "      <td>0.0</td>\n",
       "      <td>0.0</td>\n",
       "      <td>0.0</td>\n",
       "      <td>0.0</td>\n",
       "      <td>0.0</td>\n",
       "      <td>0.0</td>\n",
       "      <td>0.0</td>\n",
       "      <td>...</td>\n",
       "      <td>0.0</td>\n",
       "      <td>0.0</td>\n",
       "      <td>0.000000</td>\n",
       "      <td>0.0</td>\n",
       "      <td>0.000000</td>\n",
       "      <td>0.000000</td>\n",
       "      <td>0.0</td>\n",
       "      <td>0.0</td>\n",
       "      <td>0.0</td>\n",
       "      <td>0.0</td>\n",
       "    </tr>\n",
       "    <tr>\n",
       "      <th>1</th>\n",
       "      <td>0.0</td>\n",
       "      <td>0.0</td>\n",
       "      <td>0.0</td>\n",
       "      <td>0.0</td>\n",
       "      <td>0.0</td>\n",
       "      <td>0.0</td>\n",
       "      <td>0.0</td>\n",
       "      <td>0.0</td>\n",
       "      <td>0.0</td>\n",
       "      <td>0.0</td>\n",
       "      <td>...</td>\n",
       "      <td>0.0</td>\n",
       "      <td>0.0</td>\n",
       "      <td>0.000000</td>\n",
       "      <td>0.0</td>\n",
       "      <td>0.079844</td>\n",
       "      <td>0.000000</td>\n",
       "      <td>0.0</td>\n",
       "      <td>0.0</td>\n",
       "      <td>0.0</td>\n",
       "      <td>0.0</td>\n",
       "    </tr>\n",
       "    <tr>\n",
       "      <th>2</th>\n",
       "      <td>0.0</td>\n",
       "      <td>0.0</td>\n",
       "      <td>0.0</td>\n",
       "      <td>0.0</td>\n",
       "      <td>0.0</td>\n",
       "      <td>0.0</td>\n",
       "      <td>0.0</td>\n",
       "      <td>0.0</td>\n",
       "      <td>0.0</td>\n",
       "      <td>0.0</td>\n",
       "      <td>...</td>\n",
       "      <td>0.0</td>\n",
       "      <td>0.0</td>\n",
       "      <td>0.251052</td>\n",
       "      <td>0.0</td>\n",
       "      <td>0.000000</td>\n",
       "      <td>0.251052</td>\n",
       "      <td>0.0</td>\n",
       "      <td>0.0</td>\n",
       "      <td>0.0</td>\n",
       "      <td>0.0</td>\n",
       "    </tr>\n",
       "  </tbody>\n",
       "</table>\n",
       "<p>3 rows × 487 columns</p>\n",
       "</div>"
      ],
      "text/plain": [
       "   absicherung  abteilung  achten  aktiv  aktivität  all  alt  altersvorsorge  \\\n",
       "0          0.0        0.0     0.0    0.0        0.0  0.0  0.0             0.0   \n",
       "1          0.0        0.0     0.0    0.0        0.0  0.0  0.0             0.0   \n",
       "2          0.0        0.0     0.0    0.0        0.0  0.0  0.0             0.0   \n",
       "\n",
       "   always  and  ...  zahlen  zeigen      zeit  zentral      ziel  zufrieden  \\\n",
       "0     0.0  0.0  ...     0.0     0.0  0.000000      0.0  0.000000   0.000000   \n",
       "1     0.0  0.0  ...     0.0     0.0  0.000000      0.0  0.079844   0.000000   \n",
       "2     0.0  0.0  ...     0.0     0.0  0.251052      0.0  0.000000   0.251052   \n",
       "\n",
       "   zusammen  zusammenhalt  ändern  übernahme  \n",
       "0       0.0           0.0     0.0        0.0  \n",
       "1       0.0           0.0     0.0        0.0  \n",
       "2       0.0           0.0     0.0        0.0  \n",
       "\n",
       "[3 rows x 487 columns]"
      ]
     },
     "execution_count": 28,
     "metadata": {},
     "output_type": "execute_result"
    }
   ],
   "source": [
    "unigram_tfidf_df.head(3)"
   ]
  },
  {
   "cell_type": "code",
   "execution_count": 29,
   "id": "0b639f23",
   "metadata": {},
   "outputs": [
    {
     "data": {
      "text/html": [
       "<div>\n",
       "<style scoped>\n",
       "    .dataframe tbody tr th:only-of-type {\n",
       "        vertical-align: middle;\n",
       "    }\n",
       "\n",
       "    .dataframe tbody tr th {\n",
       "        vertical-align: top;\n",
       "    }\n",
       "\n",
       "    .dataframe thead th {\n",
       "        text-align: right;\n",
       "    }\n",
       "</style>\n",
       "<table border=\"1\" class=\"dataframe\">\n",
       "  <thead>\n",
       "    <tr style=\"text-align: right;\">\n",
       "      <th></th>\n",
       "      <th>alt mitarbeiter</th>\n",
       "      <th>and german</th>\n",
       "      <th>and other</th>\n",
       "      <th>arbeitgeber flexibel</th>\n",
       "      <th>arbeitgeber gut</th>\n",
       "      <th>arbeitgeber sicher</th>\n",
       "      <th>arbeitsplatz gut</th>\n",
       "      <th>aufgabe gut</th>\n",
       "      <th>aufgrund größe</th>\n",
       "      <th>balance gut</th>\n",
       "      <th>...</th>\n",
       "      <th>unternehmen gut</th>\n",
       "      <th>verschieden abteilung</th>\n",
       "      <th>vieler aufgabe</th>\n",
       "      <th>vieler freiheit</th>\n",
       "      <th>vieler möglichkeit</th>\n",
       "      <th>wenig wertschätzung</th>\n",
       "      <th>work life</th>\n",
       "      <th>worklife balance</th>\n",
       "      <th>zentral lage</th>\n",
       "      <th>zusammen halt</th>\n",
       "    </tr>\n",
       "  </thead>\n",
       "  <tbody>\n",
       "    <tr>\n",
       "      <th>0</th>\n",
       "      <td>0.0</td>\n",
       "      <td>0.0</td>\n",
       "      <td>0.0</td>\n",
       "      <td>0.0</td>\n",
       "      <td>0.0</td>\n",
       "      <td>0.0</td>\n",
       "      <td>0.0</td>\n",
       "      <td>0.0</td>\n",
       "      <td>0.000000</td>\n",
       "      <td>0.0</td>\n",
       "      <td>...</td>\n",
       "      <td>0.0</td>\n",
       "      <td>0.0</td>\n",
       "      <td>0.0</td>\n",
       "      <td>0.0</td>\n",
       "      <td>0.0</td>\n",
       "      <td>0.0</td>\n",
       "      <td>0.0</td>\n",
       "      <td>0.0</td>\n",
       "      <td>0.0</td>\n",
       "      <td>0.0</td>\n",
       "    </tr>\n",
       "    <tr>\n",
       "      <th>1</th>\n",
       "      <td>0.0</td>\n",
       "      <td>0.0</td>\n",
       "      <td>0.0</td>\n",
       "      <td>0.0</td>\n",
       "      <td>0.0</td>\n",
       "      <td>0.0</td>\n",
       "      <td>0.0</td>\n",
       "      <td>0.0</td>\n",
       "      <td>0.408248</td>\n",
       "      <td>0.0</td>\n",
       "      <td>...</td>\n",
       "      <td>0.0</td>\n",
       "      <td>0.0</td>\n",
       "      <td>0.0</td>\n",
       "      <td>0.0</td>\n",
       "      <td>0.0</td>\n",
       "      <td>0.0</td>\n",
       "      <td>0.0</td>\n",
       "      <td>0.0</td>\n",
       "      <td>0.0</td>\n",
       "      <td>0.0</td>\n",
       "    </tr>\n",
       "    <tr>\n",
       "      <th>2</th>\n",
       "      <td>0.0</td>\n",
       "      <td>0.0</td>\n",
       "      <td>0.0</td>\n",
       "      <td>0.0</td>\n",
       "      <td>0.0</td>\n",
       "      <td>0.0</td>\n",
       "      <td>0.0</td>\n",
       "      <td>0.0</td>\n",
       "      <td>0.000000</td>\n",
       "      <td>0.0</td>\n",
       "      <td>...</td>\n",
       "      <td>0.0</td>\n",
       "      <td>0.0</td>\n",
       "      <td>0.0</td>\n",
       "      <td>0.0</td>\n",
       "      <td>0.0</td>\n",
       "      <td>0.0</td>\n",
       "      <td>0.0</td>\n",
       "      <td>0.0</td>\n",
       "      <td>0.0</td>\n",
       "      <td>0.0</td>\n",
       "    </tr>\n",
       "  </tbody>\n",
       "</table>\n",
       "<p>3 rows × 113 columns</p>\n",
       "</div>"
      ],
      "text/plain": [
       "   alt mitarbeiter  and german  and other  arbeitgeber flexibel  \\\n",
       "0              0.0         0.0        0.0                   0.0   \n",
       "1              0.0         0.0        0.0                   0.0   \n",
       "2              0.0         0.0        0.0                   0.0   \n",
       "\n",
       "   arbeitgeber gut  arbeitgeber sicher  arbeitsplatz gut  aufgabe gut  \\\n",
       "0              0.0                 0.0               0.0          0.0   \n",
       "1              0.0                 0.0               0.0          0.0   \n",
       "2              0.0                 0.0               0.0          0.0   \n",
       "\n",
       "   aufgrund größe  balance gut  ...  unternehmen gut  verschieden abteilung  \\\n",
       "0        0.000000          0.0  ...              0.0                    0.0   \n",
       "1        0.408248          0.0  ...              0.0                    0.0   \n",
       "2        0.000000          0.0  ...              0.0                    0.0   \n",
       "\n",
       "   vieler aufgabe  vieler freiheit  vieler möglichkeit  wenig wertschätzung  \\\n",
       "0             0.0              0.0                 0.0                  0.0   \n",
       "1             0.0              0.0                 0.0                  0.0   \n",
       "2             0.0              0.0                 0.0                  0.0   \n",
       "\n",
       "   work life  worklife balance  zentral lage  zusammen halt  \n",
       "0        0.0               0.0           0.0            0.0  \n",
       "1        0.0               0.0           0.0            0.0  \n",
       "2        0.0               0.0           0.0            0.0  \n",
       "\n",
       "[3 rows x 113 columns]"
      ]
     },
     "execution_count": 29,
     "metadata": {},
     "output_type": "execute_result"
    }
   ],
   "source": [
    "bigram_tfidf_df.head(3)"
   ]
  },
  {
   "cell_type": "markdown",
   "id": "f2aff76f",
   "metadata": {},
   "source": [
    "As we can see, the dimensionality has been reduced from 1607 columns of the unigrams to just around 487 and for the bigrams we reduced the features from 3110 to 113. Each row of the DataFrame represents a document (a review, in our case), and each column represents a term (unigram or bigram). The value in each cell is the TF-IDF score of the term in that specific document."
   ]
  },
  {
   "cell_type": "markdown",
   "id": "f690e892",
   "metadata": {},
   "source": [
    "## 3. Exploratory Data Analysis (EDA)\n",
    "\n",
    "Following the data preprocessing and normalization, we enter the phase of Exploratory Data Analysis (EDA). This process allows us to delve into our cleaned dataset and begin uncovering patterns, identifying anomalies, and testing different hypotheses about the data. By using various statistical and visualization techniques, we aim to extract meaningful insights about the underlying structure of our data, explore the relationships between different variables, and provide context to the patterns we observe. The insights gleaned from EDA will guide our approach to sentiment analysis and ensure that our results align with the realities captured in our dataset."
   ]
  },
  {
   "cell_type": "code",
   "execution_count": 30,
   "id": "51fd2acc",
   "metadata": {},
   "outputs": [
    {
     "name": "stdout",
     "output_type": "stream",
     "text": [
      "Number of reviews: 187\n",
      "Rating range: 1 - 5\n",
      "Number of unique jobs: 126\n",
      "Review time period: 2015-01-22 - 2023-05-23\n"
     ]
    }
   ],
   "source": [
    "print(f\"Number of reviews: {len(df)}\")\n",
    "\n",
    "# Check the range of the rating column\n",
    "print(f\"Rating range: {df['rating'].min()} - {df['rating'].max()}\")\n",
    "\n",
    "# Check the number of different jobs\n",
    "print(f\"Number of unique jobs: {df['job'].nunique()}\")\n",
    "\n",
    "# Check the time period of all reviews\n",
    "print(f\"Review time period: {df['date'].min().date()} - {df['date'].max().date()}\")"
   ]
  },
  {
   "cell_type": "markdown",
   "id": "81bfe697",
   "metadata": {},
   "source": [
    "We see that we have a total amount of 187 job reviews. The rating ranges from 1 to 5, where 1 means \"bad\" and 5 means \"very good\". The number of 126 unique jobs is remarkable in relation to the number of reviews. Among other things, this is due to the fact that the information on the job platform is a free text field, so that many different job titles are mentioned, but which actually belong to the same category (e.g. \"working student\", \"working student data science\", \"working student in the laboratory\"). We will come back to this in more detail later. We also see that the time period for these reviews ranges from the 22.01.2015 till 23.05.2023 and thus covers more than 8 years."
   ]
  },
  {
   "cell_type": "markdown",
   "id": "893d6f04",
   "metadata": {},
   "source": [
    "### Data Distributions\n",
    "\n",
    "Now we will investigate and visualize the distributions of our different features to have a better understanding of the underlying data structure. "
   ]
  },
  {
   "cell_type": "code",
   "execution_count": 31,
   "id": "5a214297",
   "metadata": {},
   "outputs": [
    {
     "data": {
      "image/png": "[encoded data removed]",
      "text/plain": [
       "<Figure size 504x288 with 1 Axes>"
      ]
     },
     "metadata": {
      "needs_background": "light"
     },
     "output_type": "display_data"
    }
   ],
   "source": [
    "# Distribution of the Ratings\n",
    "plt.figure(figsize=(7, 4))\n",
    "sns.countplot(x='rating', data=df, order=sorted(df['rating'].unique()), color=sns.color_palette()[0], edgecolor=\"black\")\n",
    "plt.title('Distribution of Ratings')\n",
    "plt.xlabel('Rating')\n",
    "plt.ylabel('Count')\n",
    "plt.show()"
   ]
  },
  {
   "cell_type": "markdown",
   "id": "caf53f94",
   "metadata": {},
   "source": [
    "We clearly see in this plot that the majority of reviews has a positive rating with 3 or more \"stars\"."
   ]
  },
  {
   "cell_type": "code",
   "execution_count": 32,
   "id": "d09e05af",
   "metadata": {},
   "outputs": [
    {
     "data": {
      "image/png": "[encoded data removed]",
      "text/plain": [
       "<Figure size 504x288 with 1 Axes>"
      ]
     },
     "metadata": {
      "needs_background": "light"
     },
     "output_type": "display_data"
    }
   ],
   "source": [
    "# Distribution of the review lengths\n",
    "plt.figure(figsize=(7, 4))\n",
    "sns.histplot(df['review_length'], bins=50, kde=True)\n",
    "plt.title('Distribution of Review Lengths')\n",
    "plt.xlabel('Review Length (in number of words)')\n",
    "plt.ylabel('Frequency')\n",
    "plt.show()"
   ]
  },
  {
   "cell_type": "markdown",
   "id": "a3e639a2",
   "metadata": {},
   "source": [
    "In the plot of the review lengths, we can identify that most of the reviews have a length (including title, pros and cons) of around 10 to 20 words. But we can also identify an outlier with around 340 words. We will treat this outlier separatly in order to not distort our further analysis when working with the Review Length. Outliers can significantly affect the visualization and interpretation of the data. A common method to detect outliers is the IQR (interquartile range) method. In the IQR method, any value below Q1 - 1.5 * IQR or above Q3 + 1.5 * IQR is considered an outlier, where Q1 and Q3 are the first and third quartiles, respectively, and IQR = Q3 - Q1. When we detected the outlier, we can just remove it from the data set (but just for the review length analyses) because it is only one data point and we won't lose much information when filtering it out."
   ]
  },
  {
   "cell_type": "code",
   "execution_count": 33,
   "id": "976b8acd",
   "metadata": {},
   "outputs": [],
   "source": [
    "# Calculate Q1, Q3, and IQR\n",
    "Q1 = df['review_length'].quantile(0.25)\n",
    "Q3 = df['review_length'].quantile(0.75)\n",
    "IQR = Q3 - Q1\n",
    "\n",
    "# Define the upper and lower bounds for outliers\n",
    "lower_bound = Q1 - 1.5 * IQR\n",
    "upper_bound = Q3 + 1.5 * IQR\n",
    "\n",
    "# Filter out the outliers\n",
    "df_filtered = df[(df['review_length'] >= lower_bound) & (df['review_length'] <= upper_bound)]"
   ]
  },
  {
   "cell_type": "code",
   "execution_count": 34,
   "id": "0febdb44",
   "metadata": {},
   "outputs": [
    {
     "data": {
      "image/png": "[encoded data removed]",
      "text/plain": [
       "<Figure size 504x288 with 1 Axes>"
      ]
     },
     "metadata": {
      "needs_background": "light"
     },
     "output_type": "display_data"
    }
   ],
   "source": [
    "# Show the same plot, distribution of review lengths, but without the outlier\n",
    "plt.figure(figsize=(7, 4))\n",
    "sns.histplot(df_filtered['review_length'], bins=50, kde=True)\n",
    "plt.title('Distribution of Review Lengths (Outlier removed)')\n",
    "plt.xlabel('Review Length (in number of words)')\n",
    "plt.ylabel('Frequency')\n",
    "plt.show()"
   ]
  },
  {
   "cell_type": "markdown",
   "id": "29945f8b",
   "metadata": {},
   "source": [
    "We can see that removing the outlier enables us to have a much clearer and detailed visualization of the data distributions as the data is not compressed on the x-axis to show to outlier. Now we will also have a look the the text lengths for the title, pros and cons of each review. This can help us understand if there are significant differences in the length of different parts of the reviews, which might suggest different levels of emphasis or attention given by the reviewers."
   ]
  },
  {
   "cell_type": "code",
   "execution_count": 35,
   "id": "f218f8b9",
   "metadata": {},
   "outputs": [
    {
     "data": {
      "image/png": "[encoded data removed]",
      "text/plain": [
       "<Figure size 1296x288 with 3 Axes>"
      ]
     },
     "metadata": {
      "needs_background": "light"
     },
     "output_type": "display_data"
    }
   ],
   "source": [
    "# Create a 1x3 subplot\n",
    "fig, axes = plt.subplots(1, 3, figsize=(18, 4))\n",
    "\n",
    "# Plot title length distribution\n",
    "sns.histplot(data=df_filtered, x='title_length', bins=30, color=sns.color_palette()[0], ax=axes[0], kde=True)\n",
    "axes[0].set_title('Title Word Count Distribution')\n",
    "axes[0].set_xlabel('Title Word Count')\n",
    "axes[0].set_ylabel('Frequency')\n",
    "\n",
    "# Plot pros length distribution\n",
    "sns.histplot(data=df_filtered, x='pros_length', bins=30, color=sns.color_palette()[0], ax=axes[1], kde=True)\n",
    "axes[1].set_title('Pros Word Count Distribution')\n",
    "axes[1].set_xlabel('Pros Word Count')\n",
    "axes[1].set_ylabel('Frequency')\n",
    "\n",
    "# Plot cons length distribution\n",
    "sns.histplot(data=df_filtered, x='cons_length', bins=30, color=sns.color_palette()[0], ax=axes[2], kde=True)\n",
    "axes[2].set_title('Cons Word Count Distribution')\n",
    "axes[2].set_xlabel('Cons Word Count')\n",
    "axes[2].set_ylabel('Frequency')\n",
    "\n",
    "# To make x-axis same for both pros and cons\n",
    "max_pros_cons = max(df_filtered['pros_length'].max(), df_filtered['cons_length'].max())\n",
    "axes[1].set_xlim([0, max_pros_cons])\n",
    "axes[2].set_xlim([0, max_pros_cons])\n",
    "\n",
    "plt.tight_layout()\n",
    "plt.show()"
   ]
  },
  {
   "cell_type": "markdown",
   "id": "4a365644",
   "metadata": {},
   "source": [
    "We can see that the title mainly contains 2 words, which is not surprising, since a title is usually supposed to be concise. For the word counts of the pros and cons texts, we see that there is not really difference between both distributions, suggesting that the employees in general do not favor one of these text fields over the other."
   ]
  },
  {
   "cell_type": "markdown",
   "id": "787d19a5",
   "metadata": {},
   "source": [
    "### Relationship between Rating and text length\n",
    "\n",
    "In this aspect we want to check whether there is a relationship between the rating of a review and the length of the different review components, following the idea that an employee who is assigning a negativ review might write less positive but more negative text or employees who write longer reviews in general are less satisfied and want to critizise the company. Therefore we can calculate the correlation coefficient, which is a good way to quantify the linear relationship between two variables."
   ]
  },
  {
   "cell_type": "code",
   "execution_count": 36,
   "id": "9c8ad58f",
   "metadata": {},
   "outputs": [],
   "source": [
    "# Check the correlation between 'rating' and the lengths of 'title', 'pros', 'cons'\n",
    "correlations = df_filtered[['rating', 'review_length', 'title_length', 'pros_length', 'cons_length']].corr()"
   ]
  },
  {
   "cell_type": "code",
   "execution_count": 37,
   "id": "4b810cf9",
   "metadata": {},
   "outputs": [
    {
     "data": {
      "image/png": "[encoded data removed]",
      "text/plain": [
       "<Figure size 432x288 with 2 Axes>"
      ]
     },
     "metadata": {
      "needs_background": "light"
     },
     "output_type": "display_data"
    }
   ],
   "source": [
    "# Visualize these correlations using a heatmap\n",
    "sns.heatmap(correlations, annot=True, cmap='coolwarm')\n",
    "plt.title('Correlation Heatmap')\n",
    "plt.show()"
   ]
  },
  {
   "cell_type": "markdown",
   "id": "212a6302",
   "metadata": {},
   "source": [
    "The correlation coefficient ranges from -1 to 1. A value closer to -1 indicates a strong negative correlation, a value closer to 1 indicates a strong positive correlation, and a value closer to 0 indicates no correlation.\n",
    "\n",
    "Obviously, we see that there is a high correlation between the review length of the whole review (which is just the composition of title, pros and cons) and the length of pros, cons and the title which is self-explanatory. But we are interested in the correlation between the rating and the other variables. Here we see that there exists no linear relationship between the rating and the title and pros length.\n",
    "\n",
    "However, there is a negative correlation between the rating and the cons length. This can be interpreted as when an employee writes more text for the cons section of the review, the overall rating he gives will be worse, which also aligns with the second part of our hypothesis. But writing more positive text does not lead to a linear increase of the rating. There is also a small negative correlation between the rating and the review length overall, indicating that the more an employee writes the worse the rating, however we have to be careful with this interpretation as this might just reflect the impact of the negative correlation of the cons length and rating as we showed before and we know that the review length as a whole includes the cons section.\n",
    "\n",
    "In addition, correlation does not imply causation. Even if we find a strong correlation between cons length and rating, it does not necessarily mean that writing more negative text causes lower job satisfaction, it just means that they are associated. There could be other underlying factors causing both to occur.\n",
    "\n",
    "We can now also show this relationship using a scatterplot where each dot represents a review. The x-coordinate of the dot is the length of the review, and the y-coordinate is the rating. The line in the plot is the best fit linear regression line. If your hypothesis, that people who write more are in general less satisfied, is correct, we should expect to see a negative slope, suggesting that longer reviews tend to have lower ratings. The alpha parameter for the scatter plot is set to 0.3 for better visibility when data points overlap."
   ]
  },
  {
   "cell_type": "code",
   "execution_count": 38,
   "id": "ae33692d",
   "metadata": {},
   "outputs": [
    {
     "data": {
      "image/png": "[encoded data removed]",
      "text/plain": [
       "<Figure size 720x432 with 1 Axes>"
      ]
     },
     "metadata": {
      "needs_background": "light"
     },
     "output_type": "display_data"
    }
   ],
   "source": [
    "plt.figure(figsize=(10, 6))\n",
    "sns.regplot(x='review_length', y='rating', data=df_filtered, scatter_kws={'alpha':0.3}, color=sns.color_palette()[0])\n",
    "plt.title('Relationship Between Review Length and Rating (Outlier removed)')\n",
    "plt.xlabel('Review Length')\n",
    "plt.ylabel('Rating')\n",
    "plt.show()"
   ]
  },
  {
   "cell_type": "markdown",
   "id": "6d9e915f",
   "metadata": {},
   "source": [
    "Now we can also have a closer look at the distribution of the text length compared to the specific ratings using boxplots."
   ]
  },
  {
   "cell_type": "code",
   "execution_count": 39,
   "id": "644f3136",
   "metadata": {},
   "outputs": [
    {
     "data": {
      "image/png": "[encoded data removed]",
      "text/plain": [
       "<Figure size 1008x288 with 3 Axes>"
      ]
     },
     "metadata": {
      "needs_background": "light"
     },
     "output_type": "display_data"
    }
   ],
   "source": [
    "fig, ax = plt.subplots(1, 3, figsize=(14, 4))\n",
    "\n",
    "sns.boxplot(x='rating', y='review_length', data=df_filtered, ax=ax[0],  color=sns.color_palette()[0])\n",
    "ax[0].set_title('Total Review Length by Rating')\n",
    "ax[0].set_xlabel('Rating')\n",
    "ax[0].set_ylabel('Pros Length')\n",
    "\n",
    "sns.boxplot(x='rating', y='pros_length', data=df_filtered, ax=ax[1], color=sns.color_palette()[0])\n",
    "ax[1].set_title('Pros Length by Rating')\n",
    "ax[1].set_xlabel('Rating')\n",
    "ax[1].set_ylabel('Pros Length')\n",
    "\n",
    "sns.boxplot(x='rating', y='cons_length', data=df_filtered, ax=ax[2], color=sns.color_palette()[0])\n",
    "ax[2].set_title('Cons Length by Rating')\n",
    "ax[2].set_xlabel('Rating')\n",
    "ax[2].set_ylabel('Cons Length')\n",
    "\n",
    "plt.tight_layout()\n",
    "plt.show()"
   ]
  },
  {
   "cell_type": "markdown",
   "id": "ea504375",
   "metadata": {},
   "source": [
    "Here we can see that it looks like nearly all reviews have the same length independent of the rating. However, there is a slight tendency that negativ reviews with the rating of 1 have less text and reviews with a rating of 2 have more text. This could perhaps be due to the fact that employees who are so dissatisfied that they give a rating of 1 do not want to invest effort in a review, whereas employees who give a rating of 2 may be dissatisfied, but at least still want to criticize the company, perhaps in hope that the company will improve.\n",
    "\n",
    "If we have a look at the specific length of the positive text, we can see that people tend to write less positive text if they rated the company with 1 which is self-explanatory and for the negative text, we can see that people generally write and slightly less if the review was positive, but they tend to write especially much negative text when they rated the company with a 2."
   ]
  },
  {
   "cell_type": "markdown",
   "id": "f76e164f",
   "metadata": {},
   "source": [
    "### Development of Job Ratings over Time\n",
    "\n",
    "Next we are interested how the job ratings evolved over time and whether we can identify a clear trend.\n",
    "\n",
    "Firstly, we group the data by date (to the nearest month), and for each month, we calculate the mean of the 'rating' values, thereby yielding the average monthly rating. However, as our dataset may not include reviews for every single month, it's likely that we have some missing values in our time series. \n",
    "\n",
    "To address this, we use a method called **interpolation**, which estimates the missing values based on the surrounding data. In this case, we employ 'linear' interpolation, which assumes a straight-line relationship between the points before and after the missing data. To distinguish between our original data and the interpolated data, we plot both on the graph, using distinct colors and marker styles. This gives a clear visual representation of the missing data and how it has been estimated.\n",
    "\n",
    "As a next step, we fit a **Linear Regression model** to our time series of average monthly ratings. The purpose here is to identify a potential trend in our data over time. We plot the resulting regression line on our graph, providing a visual representation of this trend.\n",
    "\n",
    "Since a pure consideration of the average ratings may lead to wrong conclusions, because for example there was only one review in a month with a rating of 1 and might be not representative for a whole \"bad\" month, we also take into account the number of reviews of each month. To visualize this, we plot the number of reviews each month as a bar chart on a secondary y-axis. This allows us to correlate the trends in the average monthly rating with the number of reviews, providing a more comprehensive view of the data.\n",
    "\n",
    "The graph, thus, offers an intuitive way to understand how the reviews and ratings have evolved over time, helping to identify any temporal patterns or trends that might be present in our data"
   ]
  },
  {
   "cell_type": "code",
   "execution_count": 40,
   "id": "f01505f9",
   "metadata": {},
   "outputs": [
    {
     "data": {
      "image/png": "[encoded data removed]",
      "text/plain": [
       "<Figure size 1440x432 with 2 Axes>"
      ]
     },
     "metadata": {},
     "output_type": "display_data"
    }
   ],
   "source": [
    "# Group by date (to the month) and calculate the average rating\n",
    "average_ratings_monthly = df.groupby(pd.Grouper(key='date', freq='M'))['rating'].mean()\n",
    "\n",
    "# Count the number of reviews per month\n",
    "review_counts_monthly = df.groupby(pd.Grouper(key='date', freq='M')).size()\n",
    "\n",
    "# Create a copy of original data before interpolation\n",
    "average_ratings_monthly_before_interpolation = average_ratings_monthly.copy()\n",
    "\n",
    "# Interpolate missing values\n",
    "average_ratings_monthly.interpolate(method='linear', inplace=True)\n",
    "\n",
    "# Define marker style and color for original and interpolated data\n",
    "marker_style = dict(linestyle='-', marker='o', markersize=6)\n",
    "original_marker_color = 'orange'\n",
    "interpolated_marker_color = 'gray'\n",
    "\n",
    "# Create a figure and a single axis\n",
    "fig, ax1 = plt.subplots(figsize=(20, 6))\n",
    "\n",
    "# Plot the interpolated data\n",
    "ax1.plot(average_ratings_monthly.index, average_ratings_monthly.values,\n",
    "         color=interpolated_marker_color, \n",
    "         label='Interpolated Data',\n",
    "         **marker_style)\n",
    "\n",
    "# Overlay the original data\n",
    "ax1.plot(average_ratings_monthly_before_interpolation.index, \n",
    "         average_ratings_monthly_before_interpolation.values,\n",
    "         color=original_marker_color, \n",
    "         label='Original Data',\n",
    "         **marker_style)\n",
    "\n",
    "# Fit a Linear Regression model\n",
    "X = mdates.date2num(average_ratings_monthly.index.to_pydatetime()).reshape(-1, 1)  # Convert dates to numerical format for regression\n",
    "y = average_ratings_monthly.values\n",
    "model = LinearRegression()\n",
    "model.fit(X, y)\n",
    "\n",
    "# Generate predicted ratings\n",
    "y_pred = model.predict(X)\n",
    "\n",
    "# Plot the regression line\n",
    "ax1.plot(average_ratings_monthly.index, y_pred, color='red', label='Linear Regression') \n",
    "\n",
    "ax1.set_xlabel('Date')\n",
    "ax1.set_ylabel('Average Monthly Rating', color=original_marker_color)\n",
    "ax1.tick_params(axis='y', labelcolor=original_marker_color)\n",
    "ax1.grid(True)\n",
    "\n",
    "# Create a second y-axis that shares the same x-axis\n",
    "ax2 = ax1.twinx()\n",
    "ax2.bar(review_counts_monthly.index, review_counts_monthly.values, \n",
    "        width=20, align='center', color=sns.color_palette()[0], alpha=0.3, label='Review Count')\n",
    "ax2.set_ylabel('Review Count', color=sns.color_palette()[0])\n",
    "ax2.tick_params(axis='y', labelcolor=sns.color_palette()[0])\n",
    "\n",
    "# Adding legend\n",
    "lines, labels = ax1.get_legend_handles_labels()\n",
    "lines2, labels2 = ax2.get_legend_handles_labels()\n",
    "ax2.legend(lines + lines2, labels + labels2, loc=0)\n",
    "\n",
    "plt.title('Average Monthly Rating and Review Count Over Time')\n",
    "plt.savefig('plots/monthly_rating_over_time.png', dpi=300, bbox_inches='tight', facecolor='white')\n",
    "plt.show()"
   ]
  },
  {
   "cell_type": "markdown",
   "id": "1d53106a",
   "metadata": {},
   "source": [
    "The red line in the plot shows the trend line from the linear regression, so we can see a slight negative trend of the review ratings. However, the result is not really reliable, as we only have few data and we would have to validate this using more data. We also see that in the years of 2015 till 2021 only there have bene significantly less reviews submitted than from 2021 on, which may be due to the increasing presence of the job platform as well as general digitization."
   ]
  },
  {
   "cell_type": "markdown",
   "id": "a1d9b538",
   "metadata": {},
   "source": [
    "### Further Temporal Trend Analysis\n",
    "\n",
    "Next we want to check whether the rating might depend on other time related information like the month or the weekday. Since the rating is a ordinal feature, we will use barplots for this."
   ]
  },
  {
   "cell_type": "code",
   "execution_count": 41,
   "id": "b691e0ba",
   "metadata": {},
   "outputs": [
    {
     "data": {
      "image/png": "[encoded data removed]",
      "text/plain": [
       "<Figure size 864x288 with 2 Axes>"
      ]
     },
     "metadata": {
      "needs_background": "light"
     },
     "output_type": "display_data"
    }
   ],
   "source": [
    "# Extract month and weekday from date and map them to their names\n",
    "df['month'] = df['date'].dt.month.apply(lambda x: calendar.month_abbr[x])\n",
    "df['weekday'] = df['date'].dt.weekday.apply(lambda x: calendar.day_name[x])\n",
    "\n",
    "# Define the order of months and weekdays\n",
    "month_order = [calendar.month_abbr[i] for i in range(1, 13)]\n",
    "weekday_order = [calendar.day_name[i] for i in range(7)]\n",
    "\n",
    "# Create a 1x2 subplot\n",
    "fig, axes = plt.subplots(1, 2, figsize=(12, 4))\n",
    "\n",
    "# Plotting average rating by weekday\n",
    "sns.barplot(x='weekday', y='rating', data=df, ci=None, ax=axes[0], color=sns.color_palette()[0], edgecolor=\"black\", order=weekday_order)\n",
    "axes[0].set_title('Average Rating by Weekday')\n",
    "axes[0].set_xlabel('Weekday')\n",
    "axes[0].set_ylabel('Average Rating')\n",
    "axes[0].set_ylim(1, 5)  # To set y-axis limits for better comparison\n",
    "\n",
    "# Plotting average rating by month\n",
    "sns.barplot(x='month', y='rating', data=df, ci=None, ax=axes[1], color=sns.color_palette()[0], edgecolor=\"black\", order=month_order)\n",
    "axes[1].set_title('Average Rating by Month')\n",
    "axes[1].set_xlabel('Month')\n",
    "axes[1].set_ylabel('Average Rating')\n",
    "axes[1].set_ylim(1, 5)  # To set y-axis limits for better comparison\n",
    "\n",
    "plt.tight_layout()\n",
    "plt.show()"
   ]
  },
  {
   "cell_type": "markdown",
   "id": "3efc5f2a",
   "metadata": {},
   "source": [
    "We see that there is not really a temporal dependence on neither the weekdays nor the months. Only exception might be June, where the average rating dropped a bit lower than the other months. This however, might not be really respresentative, as there might be just less reviews in this month and therefore not giving this any statistical relevance. But verify this, we plot the amount of posted reviews over the above time features."
   ]
  },
  {
   "cell_type": "code",
   "execution_count": 42,
   "id": "af72b49d",
   "metadata": {},
   "outputs": [
    {
     "data": {
      "image/png": "[encoded data removed]",
      "text/plain": [
       "<Figure size 1152x288 with 2 Axes>"
      ]
     },
     "metadata": {
      "needs_background": "light"
     },
     "output_type": "display_data"
    }
   ],
   "source": [
    "# Group by 'weekday' and 'month' and count the reviews\n",
    "reviews_per_weekday = df.groupby('weekday').size().reset_index(name='review_count')\n",
    "reviews_per_month = df.groupby('month').size().reset_index(name='review_count')\n",
    "\n",
    "# Define the order of months and weekdays\n",
    "weekday_order = [calendar.day_name[i] for i in range(7)]\n",
    "month_order = [calendar.month_abbr[i] for i in range(1, 13)]\n",
    "\n",
    "# Create a 1x2 subplot\n",
    "fig, axes = plt.subplots(1, 2, figsize=(16, 4))\n",
    "\n",
    "# Plotting review count by weekday\n",
    "sns.barplot(x='weekday', y='review_count', data=reviews_per_weekday, ax=axes[0], color=sns.color_palette()[0], edgecolor=\"black\", order=weekday_order)\n",
    "axes[0].set_title('Review Count by Weekday')\n",
    "axes[0].set_xlabel('Weekday')\n",
    "axes[0].set_ylabel('Review Count')\n",
    "\n",
    "# Plotting review count by month\n",
    "sns.barplot(x='month', y='review_count', data=reviews_per_month, ax=axes[1], color=sns.color_palette()[0], edgecolor=\"black\", order=month_order)\n",
    "axes[1].set_title('Review Count by Month')\n",
    "axes[1].set_xlabel('Month')\n",
    "axes[1].set_ylabel('Review Count')\n",
    "\n",
    "plt.tight_layout()\n",
    "plt.show()"
   ]
  },
  {
   "cell_type": "markdown",
   "id": "945838e5",
   "metadata": {},
   "source": [
    "As we already assumed, the average number of reviews is significantly lower in June compared to some other months, so there might be no real relationship between the rating a specific month. However, we can see that on Saturedays employees tend to be writing less reviews and on average the most reviews are written in Januare and April."
   ]
  },
  {
   "cell_type": "markdown",
   "id": "187c6b90",
   "metadata": {},
   "source": [
    "## 4. Lasso Regression: Determine which terms in the job reviews drive the rating\n",
    "\n",
    "In this part, we want to determine which terms in our data drives the rating of the job reviews. Lasso Regression is a popular choice for this kind of problem due to its inherent ability to perform feature selection. By including a penalty for the number of features used in the model, Lasso Regression can help identify the most significant terms in predicting the job review ratings."
   ]
  },
  {
   "cell_type": "markdown",
   "id": "7ca38838",
   "metadata": {},
   "source": [
    "### Unigram Analysis\n",
    "\n",
    "In our analysis, we first apply Lasso regression on unigrams. Lasso regression is a type of linear regression that uses shrinkage, where data values are shrunk towards a central point, like the mean. The main advantage of Lasso regression is its ability to perform feature selection by reducing the coefficients of unimportant features to zero, making it a very useful tool for this project where we are trying to find which terms in the review text are most predictive of the review ratings.\n",
    "\n",
    "The hyperparameter of the Lasso model, alpha, controls the amount of shrinkage: the larger the value of alpha, the greater the amount of shrinkage and thus the more coefficients are reduced to zero. We optimize the value of alpha by using cross-validation, specifically LassoCV, which automatically performs cross-validation on a range of alpha values to find the optimal one."
   ]
  },
  {
   "cell_type": "code",
   "execution_count": 43,
   "id": "31970767",
   "metadata": {},
   "outputs": [
    {
     "name": "stdout",
     "output_type": "stream",
     "text": [
      "Optimal alpha value:  0.005951101767243313\n"
     ]
    }
   ],
   "source": [
    "# Let's start with the unigram term-document matrix\n",
    "X_unigram = unigram_tfidf_df.values\n",
    "\n",
    "# Create a LassoCV object\n",
    "lasso_cv = LassoCV(cv=10, random_state=42)\n",
    "\n",
    "# Fit the Lasso model on the entire dataset\n",
    "lasso_cv.fit(X_unigram, df['rating'])\n",
    "\n",
    "# Print the optimal alpha value\n",
    "print(\"Optimal alpha value: \", lasso_cv.alpha_)\n",
    "\n",
    "# Get the feature names and coefficients into a DataFrame\n",
    "feature_coeffs_cv = pd.DataFrame({\n",
    "    'Feature': unigram_tfidf_vectorizer.get_feature_names_out(),\n",
    "    'Coefficient': lasso_cv.coef_\n",
    "})"
   ]
  },
  {
   "cell_type": "markdown",
   "id": "dafa61bf",
   "metadata": {},
   "source": [
    "Now we take a look at the largest and smallest 10 coefficients of the lasso regressions, as those words drive the regression and therefore the rating."
   ]
  },
  {
   "cell_type": "code",
   "execution_count": 44,
   "id": "daf939f0",
   "metadata": {},
   "outputs": [
    {
     "name": "stdout",
     "output_type": "stream",
     "text": [
      "         Feature  Coefficient\n",
      "409          top     1.533200\n",
      "183          gut     1.083547\n",
      "27   arbeitszeit     0.963783\n",
      "394        super     0.881282\n",
      "408         toll     0.819240\n",
      "274     manchmal     0.716477\n",
      "16   arbeitgeber     0.694676\n",
      "424  unternehmen     0.416845\n",
      "441         very     0.385031\n",
      "295   nachhaltig     0.189590\n"
     ]
    }
   ],
   "source": [
    "# Display the top 10 features with the highest coefficients\n",
    "print(feature_coeffs_cv.sort_values(by='Coefficient', ascending=False).head(10))"
   ]
  },
  {
   "cell_type": "code",
   "execution_count": 45,
   "id": "101aeab9",
   "metadata": {},
   "outputs": [
    {
     "name": "stdout",
     "output_type": "stream",
     "text": [
      "        Feature  Coefficient\n",
      "361    schlecht    -2.442761\n",
      "191  hierarchie    -2.132379\n",
      "256      leicht    -1.683661\n",
      "306         not    -1.451813\n",
      "229       klein    -1.400787\n",
      "131  experience    -1.297897\n",
      "324      people    -1.182725\n",
      "257      leider    -1.071632\n",
      "470    wirklich    -0.937237\n",
      "329  persönlich    -0.695967\n"
     ]
    }
   ],
   "source": [
    "# Display the top 10 features with the lowest coefficients\n",
    "print(feature_coeffs_cv.sort_values(by='Coefficient').head(10))"
   ]
  },
  {
   "cell_type": "markdown",
   "id": "740187f2",
   "metadata": {},
   "source": [
    "This approach, using cross-validation to find the optimal alpha value, is generally more robust and helps prevent overfitting the model to the data. The selected features via this method are the ones that the model finds most indicative of the review rating, based on the data.\n",
    "\n",
    "The terms that have the most positive effect on the rating are 'top', 'gut', 'arbeitzeit', 'super', and 'toll'. This makes intuitive sense, as these words are generally associated with positive experiences and feelings. So if a review contains one of these words, it's likely that the rating is good.\n",
    "\n",
    "On the other hand, the terms that have the most negative effect on the rating are 'schlecht', 'hierarchie', 'leicht' (might imply lack of challenge). These terms might be associated with elements of the job that employees are dissatisfied with.\n",
    "\n",
    "We should note that Lasso regression assumes a linear relationship between the predictors (terms) and the target variable (rating). If these assumptions do not hold, the results may not accurately reflect the relationships in the data. Also, the terms are interpreted in the context of the presence of other terms in the model. Therefore, while a term might be strongly predictive in the current model, its predictive power might change if the model were retrained with a different set of terms."
   ]
  },
  {
   "cell_type": "markdown",
   "id": "9c760821",
   "metadata": {},
   "source": [
    "### Bigram Analysis\n",
    "Next, we apply a similar analysis to bigrams (two-word phrases) in the review text. However, in this case, when we used the same LassoCV approach, we found that it led to an output where the coefficients of nearly all bigrams were reduced to zero. This is likely because the relatively high-dimensional nature of bigrams and the small number of reviews lead the cross-validation process to favor a very simple model to avoid overfitting.\n",
    "\n",
    "Given the specifics of this project, where we aim to identify which terms or phrases are most associated with the review rating, having all coefficients be zero is not very informative. Therefore, we chose to set the alpha parameter manually in this case, balancing between complexity and predictive power."
   ]
  },
  {
   "cell_type": "code",
   "execution_count": 46,
   "id": "9511476c",
   "metadata": {},
   "outputs": [
    {
     "name": "stdout",
     "output_type": "stream",
     "text": [
      "Optimal alpha value:  0.0204438746865402\n"
     ]
    }
   ],
   "source": [
    "# Let's start with the bigram term-document matrix\n",
    "X_bigram = bigram_tfidf_df.values\n",
    "\n",
    "# Create a LassoCV object\n",
    "lasso_cv_bigrams = LassoCV(cv=10, random_state=42, max_iter=5000)\n",
    "\n",
    "# Fit the Lasso model on the entire dataset\n",
    "lasso_cv_bigrams.fit(X_bigram, df['rating'])\n",
    "\n",
    "# Print the optimal alpha value\n",
    "print(\"Optimal alpha value: \", lasso_cv_bigrams.alpha_)\n",
    "\n",
    "# Get the feature names and coefficients into a DataFrame\n",
    "feature_coeffs_cv_bigrams = pd.DataFrame({\n",
    "    'Feature': bigram_tfidf_vectorizer.get_feature_names_out(),\n",
    "    'Coefficient': lasso_cv_bigrams.coef_\n",
    "})"
   ]
  },
  {
   "cell_type": "code",
   "execution_count": 47,
   "id": "c60d733b",
   "metadata": {},
   "outputs": [
    {
     "name": "stdout",
     "output_type": "stream",
     "text": [
      "               Feature  Coefficient\n",
      "0      alt mitarbeiter         -0.0\n",
      "57  interessant arbeit          0.0\n",
      "83      service center         -0.0\n",
      "82  schlecht bezahlung         -0.0\n",
      "81         neu aufgabe          0.0\n",
      "80      netter kollege          0.0\n",
      "79       nette kollege          0.0\n",
      "78           nett team         -0.0\n",
      "77    nett mitarbeiter          0.0\n",
      "76        nett kollege         -0.0\n",
      "                    Feature  Coefficient\n",
      "0           alt mitarbeiter         -0.0\n",
      "81              neu aufgabe          0.0\n",
      "80           netter kollege          0.0\n",
      "79            nette kollege          0.0\n",
      "78                nett team         -0.0\n",
      "77         nett mitarbeiter          0.0\n",
      "76             nett kollege         -0.0\n",
      "75  möglichkeit entwicklung          0.0\n",
      "74         mobiles arbeiten         -0.0\n",
      "73          mitarbeiter gut         -0.0\n"
     ]
    }
   ],
   "source": [
    "# Display the top 10 features with the highest and lowest coefficients\n",
    "print(feature_coeffs_cv_bigrams.sort_values(by='Coefficient', ascending=False).head(10))\n",
    "print(feature_coeffs_cv_bigrams.sort_values(by='Coefficient').head(10))"
   ]
  },
  {
   "cell_type": "code",
   "execution_count": 48,
   "id": "5f0898e7",
   "metadata": {},
   "outputs": [],
   "source": [
    "# Create the Lasso object, but set the alpha parameter manually\n",
    "lasso = Lasso(alpha=0.01)\n",
    "\n",
    "# Fit the Lasso model on the entire dataset\n",
    "lasso.fit(X_bigram, df['rating'])\n",
    "\n",
    "# Get the feature names and coefficients into a DataFrame\n",
    "bigram_feature_coeffs = pd.DataFrame({\n",
    "    'Feature': bigram_tfidf_vectorizer.get_feature_names_out(),\n",
    "    'Coefficient': lasso.coef_\n",
    "})"
   ]
  },
  {
   "cell_type": "code",
   "execution_count": 49,
   "id": "b350902b",
   "metadata": {},
   "outputs": [
    {
     "name": "stdout",
     "output_type": "stream",
     "text": [
      "                    Feature  Coefficient\n",
      "37          gut arbeitgeber     0.599617\n",
      "99         toll arbeitgeber     0.445337\n",
      "35         groß unternehmen     0.328280\n",
      "38            gut bezahlung     0.159536\n",
      "57       interessant arbeit     0.137767\n",
      "0           alt mitarbeiter    -0.000000\n",
      "78                nett team    -0.000000\n",
      "77         nett mitarbeiter     0.000000\n",
      "75  möglichkeit entwicklung     0.000000\n",
      "74         mobiles arbeiten    -0.000000\n"
     ]
    }
   ],
   "source": [
    "# Display the 10 features with highest positive coefficients\n",
    "print(bigram_feature_coeffs.sort_values(by='Coefficient', ascending=False).head(10))"
   ]
  },
  {
   "cell_type": "code",
   "execution_count": 50,
   "id": "f5c7bf82",
   "metadata": {},
   "outputs": [
    {
     "name": "stdout",
     "output_type": "stream",
     "text": [
      "                  Feature  Coefficient\n",
      "88    sicher arbeitsplatz    -0.825232\n",
      "16  fehlend wertschätzung    -0.688329\n",
      "58    interessant aufgabe    -0.656787\n",
      "82     schlecht bezahlung    -0.650803\n",
      "89             sicher job    -0.598083\n",
      "86              should be    -0.499716\n",
      "97               the best    -0.158396\n",
      "55            home office    -0.125206\n",
      "76           nett kollege    -0.076084\n",
      "65   komplex organisation     0.000000\n"
     ]
    }
   ],
   "source": [
    "# Display the 10 features with highest negative coefficients\n",
    "print(bigram_feature_coeffs.sort_values(by='Coefficient').head(10))"
   ]
  },
  {
   "cell_type": "markdown",
   "id": "6d33b9a5",
   "metadata": {},
   "source": [
    "The positive coefficients represent the terms (in this case, bigrams) that are associated with higher ratings. For example, 'gut arbeitgeber' and 'toll arbeitgeber' have the highest positive coefficients, suggesting that when these terms are present in a review, the review is likely to have a higher rating. Other terms like 'groß unternehmen' and 'gut bezahlung' are also positively associated with the rating.\n",
    "\n",
    "On the other hand, the negative coefficients represent the terms that are associated with lower ratings. The terms 'sicher arbeitsplatz', 'fehlend wertschätzung' , 'interessant aufgabe', and 'schlecht bezahlung' have the highest negative coefficients. This suggests that when these terms appear in a review, they are likely to be associated with a lower rating.\n",
    "\n",
    "Also, it's important to note that English terms like 'should be' and 'the best' appeared in the negatively associated bigrams. It could indicate that the usage of English in reviews is associated with lower ratings or these specific phrases are used in a negative context. It's also worth mentioning that a large number of terms have a coefficient of zero, indicating that these terms are not contributing to the prediction of the rating. These are the terms that the Lasso regression has essentially deemed irrelevant for predicting the review rating.\n",
    "\n",
    "This approach gives us more control over the complexity of the model and allows us to retain more features for interpretability. However, it's important to keep in mind that this might make the model more susceptible to overfitting, and the features selected might not generalize as well to new, unseen data."
   ]
  },
  {
   "cell_type": "markdown",
   "id": "14cb1a21",
   "metadata": {},
   "source": [
    "## 5. Topic Modeling\n",
    "\n",
    "To identify major concerns employees have when writing a negative review, we use topic modeling. \n",
    "\n",
    "Topic modeling is a type of statistical modeling for discovering the abstract 'topics' that occur in a collection of documents. In essence, it is an unsupervised machine learning technique used to categorize large volumes of text data into a predefined number of topics. These topics represent a set of words that are representative of the main theme within the collection.\n",
    "\n",
    "For our project, topic modeling is immensely useful as it can help us identify the major themes and concerns present in the employee reviews. Given that our dataset contains free-text 'pros' and 'cons' fields, the themes identified through topic modeling can help us understand what areas employees frequently mention as positive or negative. This information, in turn, can be valuable for BASF to understand areas of strength and improvement, and can guide interventions to enhance employee satisfaction.\n",
    "\n",
    "For that, we first filter our data to only negative reviews and focus on the \"cons\" as this text contains the negative aspects of the review. We define a negative review as a review with a rating of 3 or lower."
   ]
  },
  {
   "cell_type": "code",
   "execution_count": 51,
   "id": "a4599853",
   "metadata": {},
   "outputs": [],
   "source": [
    "# Filter reviews\n",
    "df_negative = df[df['rating'] <= 3]\n",
    "\n",
    "# Prepare the text data\n",
    "data = df_negative['cons'].values.tolist()\n",
    "\n",
    "# Preprocess the data\n",
    "processed_data = [preprocess_text(doc).split() for doc in data]\n",
    "\n",
    "# Create a dictionary and corpus required for LDA\n",
    "id2word = corpora.Dictionary(processed_data)\n",
    "texts = processed_data\n",
    "corpus = [id2word.doc2bow(text) for text in texts]"
   ]
  },
  {
   "cell_type": "markdown",
   "id": "059a65a0",
   "metadata": {},
   "source": [
    "We are now ready to perform a topic modeling on our filtered data. One popular algorithm for this is **Latent Dirichlet Allocation (LDA)**. In Python, we can use the gensim library for this. Latent Dirichlet Allocation (LDA) is a generative statistical model widely used in Natural Language Processing (NLP) to extract hidden topics from large volumes of text data. The term 'Latent' signifies hidden topics that the model will learn, 'Dirichlet' is a type of probability distribution that the model uses, and 'Allocation' refers to the assignment of topics to the documents.\n",
    "\n",
    "LDA is based on two fundamental assumptions:\n",
    "\n",
    "1. Documents are probability distributions over latent topics: This means that each document can be represented as a mixture of a certain number of topics.\n",
    "\n",
    "2. Topics are probability distributions over words: This means that each topic is characterized by a distribution of words.\n",
    "\n",
    "In simple terms, if we have a collection of documents (corpus), LDA assumes that these documents were generated in the following way:\n",
    "\n",
    "- For each document, choose a distribution over topics.\n",
    "- For each word in the document, choose a topic from the distribution over topics, and then choose a word from that topic's distribution over words.\n",
    "- When given a corpus of documents, LDA infers the original distributions over topics and words that most likely generated the documents.\n",
    "\n",
    "One of the key parameters in an LDA model is the number of topics. However, there's no easy way to decide the 'correct' number of topics. Here, we determine the optimal number of topics using a metric called the Coherence Score.\n",
    "\n",
    "The **Coherence Score** is a measure of the quality of the learned topics. It calculates the similarity between high scoring words within each topic, which gives a sense of how interpretable and meaningful a topic is. The assumption here is that more similar words form a topic that is more interpretable and thus of higher quality.\n",
    "\n",
    "In our process, we build several LDA models with a different number of topics and compare their Coherence Scores. We choose a range of potential topic quantities, each time building a new model and calculating its coherence. By plotting these coherence scores against the number of topics, we can visually inspect where the increase in coherence score slows down (a point of diminishing returns), which suggests the optimal number of topics, which is in this case 4."
   ]
  },
  {
   "cell_type": "code",
   "execution_count": 52,
   "id": "a775ee4d",
   "metadata": {},
   "outputs": [],
   "source": [
    "# Use coherence score to determine optimal number of topics\n",
    "def compute_coherence_values(dictionary, corpus, texts, limit, start=2, step=3):\n",
    "    \"\"\"\n",
    "    Compute c_v coherence for various number of topics\n",
    "\n",
    "    Parameters:\n",
    "    ----------\n",
    "    dictionary : Gensim dictionary\n",
    "    corpus : Gensim corpus\n",
    "    texts : List of input texts\n",
    "    limit : Max num of topics\n",
    "\n",
    "    Returns:\n",
    "    -------\n",
    "    model_list : List of LDA topic models\n",
    "    coherence_values : Coherence values corresponding to the LDA model with respective number of topics\n",
    "    \"\"\"\n",
    "    coherence_values = []\n",
    "    model_list = []\n",
    "    for num_topics in range(start, limit, step):\n",
    "        model = models.LdaModel(corpus=corpus, id2word=id2word, num_topics=num_topics, random_state=42)\n",
    "        model_list.append(model)\n",
    "        coherencemodel = CoherenceModel(model=model, texts=texts, dictionary=dictionary, coherence='c_v')\n",
    "        coherence_values.append(coherencemodel.get_coherence())\n",
    "\n",
    "    return model_list, coherence_values"
   ]
  },
  {
   "cell_type": "code",
   "execution_count": 53,
   "id": "52862dce",
   "metadata": {},
   "outputs": [
    {
     "data": {
      "image/png": "[encoded data removed]",
      "text/plain": [
       "<Figure size 432x288 with 1 Axes>"
      ]
     },
     "metadata": {
      "needs_background": "light"
     },
     "output_type": "display_data"
    }
   ],
   "source": [
    "# Use this function to determine the optimal number of topics\n",
    "model_list, coherence_values = compute_coherence_values(dictionary=id2word, corpus=corpus, texts=texts, start=2, limit=10, step=2)\n",
    "# Plot coherence values to visualize the optimal number of topics\n",
    "limit=10; start=2; step=2;\n",
    "x = range(start, limit, step)\n",
    "plt.plot(x, coherence_values)\n",
    "plt.xlabel(\"Number of Topics\")\n",
    "plt.ylabel(\"Coherence score\")\n",
    "plt.legend((\"coherence_values\"), loc='best')\n",
    "plt.show()"
   ]
  },
  {
   "cell_type": "code",
   "execution_count": 54,
   "id": "2f67faed",
   "metadata": {},
   "outputs": [
    {
     "name": "stdout",
     "output_type": "stream",
     "text": [
      "Topic: 0 \n",
      "Words: 0.026*\"wenig\" + 0.020*\"Gehalt\" + 0.012*\"The\" + 0.012*\"vieler\" + 0.012*\"Wertschätzung\" + 0.011*\"hoch\" + 0.011*\"Mitarbeiter\" + 0.011*\"schlecht\" + 0.007*\"--\" + 0.006*\"Automation\"\n",
      "Topic: 1 \n",
      "Words: 0.020*\"--\" + 0.010*\"Mitarbeiter\" + 0.010*\"Abteilung\" + 0.009*\"schlecht\" + 0.006*\"Struktur\" + 0.006*\"Firma\" + 0.006*\"ganz\" + 0.006*\"kaum\" + 0.006*\"eck\" + 0.006*\"More\"\n",
      "Topic: 2 \n",
      "Words: 0.015*\"Gehalt\" + 0.010*\"vieler\" + 0.009*\"Struktur\" + 0.009*\"Mitarbeiter\" + 0.009*\"Starre\" + 0.008*\"persönlich\" + 0.007*\"gehen\" + 0.006*\"Entwicklung\" + 0.006*\"Hierarchie\" + 0.006*\"Personal\"\n",
      "Topic: 3 \n",
      "Words: 0.013*\"Mitarbeiter\" + 0.011*\"vieler\" + 0.009*\"Gehalt\" + 0.009*\"Kollege\" + 0.008*\"wenig\" + 0.008*\"Team\" + 0.007*\"Vergleich\" + 0.007*\"hoch\" + 0.007*\"Hierarchie\" + 0.006*\"klein\"\n"
     ]
    }
   ],
   "source": [
    "# Select the model with highest coherence value\n",
    "optimal_model = model_list[coherence_values.index(max(coherence_values))]\n",
    "# Now, let's print the most probable words for each topic\n",
    "for idx, topic in optimal_model.print_topics(-1):\n",
    "    print('Topic: {} \\nWords: {}'.format(idx, topic))"
   ]
  },
  {
   "cell_type": "markdown",
   "id": "45612a56",
   "metadata": {},
   "source": [
    "The numbers before the words represent the weights (probabilities) of those words within each topic. These weights represent how important a keyword is to that topic.\n",
    "\n",
    "A possible interpretation of our results and topic titles are:\n",
    "\n",
    "1. **Topic 0 - \"Wages and Valuation\"**: This topic seems to be about wages and how much employees feel they are valued within the company. Key words such as \"wenig\", \"Gehalt\", \"Wertschätzung\", \"hoch\", and \"schlecht\" suggest employees may feel they are undervalued and are dissatisfied with their wages.\n",
    "\n",
    "2. **Topic 1 - \"Work Structure and Environment\"**: This topic seems to relate to the company's work structure and general environment. Words like \"--\", \"Mitarbeiter\", \"Abteilung\", \"schlecht\", \"Struktur\", \"Firma\" suggest that employees might be expressing discontent with the company's organizational structure and the overall environment within their department or the company as a whole.\n",
    "\n",
    "3. **Topic 2 - \"Professional Growth and Work Structure\"**: This topic seems to focus on professional development and hierarchical issues. Words like \"Gehalt\", \"Struktur\", \"Mitarbeiter\", \"Starre\", \"persönlich\", \"gehen\", \"Entwicklung\", \"Hierarchie\", \"Personal\" suggest a possible dissatisfaction with career growth opportunities, the rigid structure, and hierarchy within the company.\n",
    "\n",
    "4. **Topic 3 - \"Teamwork and Work Culture\"**: This topic appears to focus on the interpersonal relationships between employees and the overall work culture. The presence of words like \"Mitarbeiter\", \"vieler\", \"Gehalt\", \"Kollege\", \"wenig\", \"Team\", \"Vergleich\", \"hoch\", \"Hierarchie\", \"klein\" might imply employees' views on teamwork, salary comparisons, and issues within the hierarchy that affect the team dynamic."
   ]
  },
  {
   "cell_type": "markdown",
   "id": "ba8cb299",
   "metadata": {},
   "source": [
    "## 6. Automated Responses\n",
    "\n",
    "We now want to create a methodology for writing suitable response to negative reviews. As the topic of this seminar is \"Generative AI\" we want to automate this process and let GPT-3 write the response automatically. \n",
    "\n",
    "First we write a function that takes a review text (to be more specific the \"cons\" of a review) as input and preprocesses it, and then predicts the topic. We will use the LDA model we previously trained to predict the topic for the review. We also give each of our topcis a topic title as already introduced above. Of course this title is highly subjective, but we tried to summarize the words of the topic in the most meaningful way. Furthermore we define a low threshold (0.01) when the topic sum is too low. This should be the case for review contents that make no sense at all. In this case, no topic is predicted and a different prompt is sent to GPT3."
   ]
  },
  {
   "cell_type": "code",
   "execution_count": 70,
   "id": "f49e4b4b",
   "metadata": {},
   "outputs": [],
   "source": [
    "topic_names = {\n",
    "    0: \"Gehälter und Wertschätzung\",\n",
    "    1: \"Arbeitstruktur und Arbeitsumgebung\",\n",
    "    2: \"Berufliche Entwicklung und Arbeitsstruktur\",\n",
    "    3: \"Teamarbeit und Arbeitskultur\"\n",
    "}"
   ]
  },
  {
   "cell_type": "code",
   "execution_count": 71,
   "id": "50350c2a",
   "metadata": {},
   "outputs": [],
   "source": [
    "def predict_topic(review_text, lda_model, dictionary):\n",
    "    # Preprocess the text\n",
    "    processed_review = preprocess_text(review_text).split()\n",
    "    \n",
    "    # Only keep the words that are in the dictionary\n",
    "    processed_review = [word for word in processed_review if word in dictionary.token2id]\n",
    "    \n",
    "    try:\n",
    "        bow_vector = dictionary.doc2bow(processed_review)\n",
    "        topic_prediction = lda_model.get_document_topics(bow_vector)\n",
    "    except IndexError:\n",
    "        return \"Out of Bounds\"\n",
    "    \n",
    "    # Check if the topic probabilities sum is below 0.01\n",
    "    topic_prob_sum = sum([prob for topic, prob in topic_prediction])\n",
    "    if topic_prob_sum < 0.01:\n",
    "        return \"No topic\"\n",
    "\n",
    "    # get the topic that has the highest probability\n",
    "    max_prob = max(topic_prediction, key=lambda item: item[1])\n",
    "\n",
    "    # return the topic number with highest probability\n",
    "    return max_prob[0]"
   ]
  },
  {
   "cell_type": "markdown",
   "id": "34066c72",
   "metadata": {},
   "source": [
    "The predict_topic() function will return the topic number that has the highest probability for a given review text. We are now able to assign each review content a topic. This topic will be integrated in our GPT3 prompt. Now we define a function that uses OpenAI's GPT-3 to generate a response. The function generate_response() calls predict_topic() and then generates a prompt for GPT-3 that includes the topic title, the most dominant topic words, and the review text."
   ]
  },
  {
   "cell_type": "code",
   "execution_count": 90,
   "id": "9ccd8e90",
   "metadata": {},
   "outputs": [],
   "source": [
    "with open('OPENAI_API_KEY.txt', 'r') as file:\n",
    "    openai_api_key = file.read().strip()\n",
    "    \n",
    "openai.api_key = openai_api_key\n",
    "\n",
    "def generate_response(review_text, lda_model, dictionary, topic_names):\n",
    "    # Predict the topic\n",
    "    topic_num = predict_topic(review_text, lda_model, dictionary)\n",
    "    \n",
    "    if topic_num == \"No topic\":\n",
    "        prompt = f\"Ein Mitarbeiter hat eine negative Bewertung über das Unternehmen abgegeben. Das Thema konnte nicht kategorisiert werden. Es wurde jedoch folgender Kommentar abgegeben: '{review_text}'. Bitte geben Sie eine kurze, hilfreiche Antwort als Vertreter des Unternehmens.\"\n",
    "    elif topic_num == \"Out of Bounds\":\n",
    "        prompt = f\"Ein Mitarbeiter hat eine negative Bewertung über das Unternehmen abgegeben. Der Kommentar des Mitarbeiters lautet wie folgt:\\n\\n'{review_text}'\\n\\n Bitte geben Sie eine kurze, allgemeine Antwort als Vertreter des Unternehmens.\"\n",
    "    else:\n",
    "        # Get topic title\n",
    "        topic_title = topic_names[topic_num]\n",
    "\n",
    "        # Get most dominant topic words for this topic\n",
    "        topic_words = ', '.join([word for word, prob in lda_model.show_topic(topic_num)])\n",
    "\n",
    "        # Create the prompt for GPT-3\n",
    "        prompt = f\"Ein Mitarbeiter hat eine negative Bewertung des Unternehmens in Bezug auf '{topic_title}' abgegeben. Das Thema kann mit den folgenden Worten beschrieben werden: {topic_words}. Der Kommentar des Mitarbeiters lautet wie folgt:\\n\\n'{review_text}'\\n\\nWie würden Sie als Vertreter des Unternehmens auf die Bedenken dieses Mitarbeiters in Form einer kurzen Antwort reagieren?\\n\\nGeben Sie auch einen kurzen Ratschlag, wie das Unternehmen die angesprochenen Probleme lösen könnte.\"\n",
    "\n",
    "    # Use OpenAI's GPT-3 to generate a response\n",
    "    response = openai.Completion.create(\n",
    "        model=\"text-davinci-003\",\n",
    "        prompt=prompt,\n",
    "        max_tokens=250, # Set a maximum of tokens of the response\n",
    "        n=1, # How often should a response be generated\n",
    "        temperature=0, # Randomness, the higher the weirder\n",
    "    )\n",
    "\n",
    "    return response.choices[0].text.strip()"
   ]
  },
  {
   "cell_type": "markdown",
   "id": "8260eda2",
   "metadata": {},
   "source": [
    "### Exemplary Usage\n",
    "\n",
    "Now have a function that can generate a response to a given review text (primarely text that would fit into the \"cons\" text field) using GPT-3, taking into account the topic of the review as determined by our LDA model.\n",
    "\n",
    "To use this, we can call the generate_response function with our review text and the trained LDA model, dictionary, and topic names as arguments.\n",
    "\n",
    "For example, let's say we have the following review text that says:"
   ]
  },
  {
   "cell_type": "code",
   "execution_count": 91,
   "id": "05c1eb4b",
   "metadata": {},
   "outputs": [],
   "source": [
    "new_review_text = \"Die Arbeitskultur hier ist schrecklich. Es fehlt völlig an Wertschätzung für die Mitarbeiter.\""
   ]
  },
  {
   "cell_type": "code",
   "execution_count": 92,
   "id": "1886e3f3",
   "metadata": {},
   "outputs": [
    {
     "name": "stdout",
     "output_type": "stream",
     "text": [
      "Als Vertreter des Unternehmens möchten wir uns für die Bedenken des Mitarbeiters bedanken. Wir verstehen, dass es einige Probleme mit der Wertschätzung und dem Gehalt gibt, und wir sind bestrebt, diese Probleme zu lösen.\n",
      "\n",
      "Unser Rat ist, dass das Unternehmen einige Maßnahmen ergreift, um die Wertschätzung der Mitarbeiter zu verbessern. Dazu gehören die Einführung eines regelmäßigen Feedback-Systems, das Einrichten von Mitarbeiter-Belohnungsprogrammen, die Erhöhung der Gehälter und die Einführung eines Automatisierungssystems, um die Arbeitsbelastung zu reduzieren. Wir sind zuversichtlich, dass diese Maßnahmen dazu beitragen werden, die W\n"
     ]
    }
   ],
   "source": [
    "response = generate_response(new_review_text, optimal_model, id2word, topic_names)\n",
    "print(response)"
   ]
  },
  {
   "cell_type": "markdown",
   "id": "0dcbe702",
   "metadata": {},
   "source": [
    "The generate_response function takes the review text, preprocesses it, and predicts the topic using our trained LDA model and dictionary. It then constructs a prompt for GPT-3 that includes the review text and the main points of the predicted topic. This prompt is sent to GPT-3, which generates a response that is returned by the function. If the input is detected as nonsense (i.e., the sum of topic probabilities is less than 0.01), the function sends a different prompt to GPT-3 asking for a general response to a nonsensical review.\n",
    "\n",
    "As a final reminder, using AI systems to interact with real customers or employees should always be done with caution, as the system might not always generate appropriate responses, and it's crucial to respect privacy and use data responsibly."
   ]
  },
  {
   "cell_type": "code",
   "execution_count": null,
   "id": "b2a24e6e",
   "metadata": {},
   "outputs": [],
   "source": []
  }
 ],
 "metadata": {
  "kernelspec": {
   "display_name": "Python 3 (ipykernel)",
   "language": "python",
   "name": "python3"
  },
  "language_info": {
   "codemirror_mode": {
    "name": "ipython",
    "version": 3
   },
   "file_extension": ".py",
   "mimetype": "text/x-python",
   "name": "python",
   "nbconvert_exporter": "python",
   "pygments_lexer": "ipython3",
   "version": "3.9.6"
  }
 },
 "nbformat": 4,
 "nbformat_minor": 5
}
